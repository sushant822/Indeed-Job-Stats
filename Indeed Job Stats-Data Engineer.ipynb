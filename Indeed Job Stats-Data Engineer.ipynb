{
 "cells": [
  {
   "cell_type": "markdown",
   "metadata": {},
   "source": [
    "# <center> Program to analyze and find salary of a job profile</center>\n",
    "### <center>by Sushant Deshpande</center>\n",
    "\n",
    "I wrote this program so that it can scrape and analyze several jobs listed on Indeed.com or Indeed.ca in this case since I am in Canada and find the average salary of jobs. In addition to this, it also tells us which city in Canada has the maximum number of jobs and maximum salary. I have plotted all this using bar graph to make it visually easy to understand."
   ]
  },
  {
   "cell_type": "markdown",
   "metadata": {},
   "source": [
    " Let's start by asking the user which job title he wants search for. First, we create a variable called <b> *job_title_1*</b> and store the user input in it"
   ]
  },
  {
   "cell_type": "code",
   "execution_count": 1,
   "metadata": {},
   "outputs": [],
   "source": [
    "#job_title_1 = input(\"Enter the Job Title: \")\n",
    "job_title_1 = \"Data Engineer\""
   ]
  },
  {
   "cell_type": "markdown",
   "metadata": {},
   "source": [
    "#### Now let's import the required libries"
   ]
  },
  {
   "cell_type": "code",
   "execution_count": 2,
   "metadata": {},
   "outputs": [
    {
     "name": "stdout",
     "output_type": "stream",
     "text": [
      "Libraries imported.\n"
     ]
    }
   ],
   "source": [
    "from bs4 import BeautifulSoup\n",
    "import requests\n",
    "import matplotlib.pyplot as plt\n",
    "from urllib.request import urlopen\n",
    "%matplotlib inline\n",
    "import numpy as np\n",
    "import pandas as pd\n",
    "import matplotlib.cm as cm\n",
    "import matplotlib.colors as colors\n",
    "import time\n",
    "print('Libraries imported.')"
   ]
  },
  {
   "cell_type": "markdown",
   "metadata": {},
   "source": [
    "The way Indeed works is it takes the given user input, converts it to lower case and replaces the spaces with +. So we need to do the same.\n",
    "\n",
    "Let's convert the job title to lower case using <b>.lower()</b> method.\n",
    "\n",
    "Then, let's replace the spaces with + using <b>.repalce()</b> method.\n",
    "\n",
    "And then let's see how the output looks, <b>job_title_3</b> in this case."
   ]
  },
  {
   "cell_type": "code",
   "execution_count": 3,
   "metadata": {},
   "outputs": [
    {
     "data": {
      "text/plain": [
       "'data+engineer'"
      ]
     },
     "execution_count": 3,
     "metadata": {},
     "output_type": "execute_result"
    }
   ],
   "source": [
    "job_title_2 = job_title_1.lower() # convert to lower case\n",
    "job_title_3 = job_title_2.replace(' ', '+') # replace space with +\n",
    "job_title_3"
   ]
  },
  {
   "cell_type": "markdown",
   "metadata": {},
   "source": [
    "In our case, since we are searching for <b>Data Scientist</b> the output looks good, <b>*data+scientist*</b>"
   ]
  },
  {
   "cell_type": "markdown",
   "metadata": {},
   "source": [
    "Now let's write the code that can scrape Indeed.ca with our <b>*job_title_3*</b>\n",
    "\n",
    "Here we insert job_title_3 into our url using concatenate feature in python"
   ]
  },
  {
   "cell_type": "code",
   "execution_count": 4,
   "metadata": {},
   "outputs": [],
   "source": [
    "from datetime import date\n",
    "today = date.today()"
   ]
  },
  {
   "cell_type": "code",
   "execution_count": 5,
   "metadata": {},
   "outputs": [
    {
     "data": {
      "text/plain": [
       "'01-April-2021'"
      ]
     },
     "execution_count": 5,
     "metadata": {},
     "output_type": "execute_result"
    }
   ],
   "source": [
    "# Textual month, day and year\n",
    "d2 = today.strftime(\"%d-%B-%Y\")\n",
    "d2"
   ]
  },
  {
   "cell_type": "code",
   "execution_count": 6,
   "metadata": {},
   "outputs": [
    {
     "data": {
      "text/plain": [
       "'data_engineer'"
      ]
     },
     "execution_count": 6,
     "metadata": {},
     "output_type": "execute_result"
    }
   ],
   "source": [
    "job_title_lower = job_title_1.lower() # convert to lower case\n",
    "job_title_us = job_title_2.replace(' ', '_') # replace space with +\n",
    "job_title_us"
   ]
  },
  {
   "cell_type": "code",
   "execution_count": 7,
   "metadata": {},
   "outputs": [],
   "source": [
    "url = 'https://www.indeed.ca/jobs?q='+job_title_3+'&l=canada'\n",
    "page = requests.get(url)\n",
    "soup = BeautifulSoup(page.text, \"html.parser\")\n",
    "#print(soup.prettify())"
   ]
  },
  {
   "cell_type": "markdown",
   "metadata": {},
   "source": [
    "Let's check the url that we just parsed, just to be sure."
   ]
  },
  {
   "cell_type": "code",
   "execution_count": 8,
   "metadata": {},
   "outputs": [
    {
     "data": {
      "text/plain": [
       "'https://www.indeed.ca/jobs?q=data+engineer&l=canada'"
      ]
     },
     "execution_count": 8,
     "metadata": {},
     "output_type": "execute_result"
    }
   ],
   "source": [
    "url"
   ]
  },
  {
   "cell_type": "markdown",
   "metadata": {},
   "source": [
    "Now that we have the the url, let's write a function that will parse the url, extract the data and store it in a dataframe.\n",
    "\n",
    "In order to get a proper data set, we need to parse more than one page. So let's write the code to parse first 10 pages and store them in the same dataframe using <b>pd.concat</b> function."
   ]
  },
  {
   "cell_type": "code",
   "execution_count": 9,
   "metadata": {},
   "outputs": [],
   "source": [
    "sleep_timer = 10"
   ]
  },
  {
   "cell_type": "code",
   "execution_count": 10,
   "metadata": {
    "scrolled": true
   },
   "outputs": [
    {
     "data": {
      "text/html": [
       "<div>\n",
       "<style scoped>\n",
       "    .dataframe tbody tr th:only-of-type {\n",
       "        vertical-align: middle;\n",
       "    }\n",
       "\n",
       "    .dataframe tbody tr th {\n",
       "        vertical-align: top;\n",
       "    }\n",
       "\n",
       "    .dataframe thead th {\n",
       "        text-align: right;\n",
       "    }\n",
       "</style>\n",
       "<table border=\"1\" class=\"dataframe\">\n",
       "  <thead>\n",
       "    <tr style=\"text-align: right;\">\n",
       "      <th></th>\n",
       "      <th>Title</th>\n",
       "      <th>Location</th>\n",
       "      <th>Company</th>\n",
       "      <th>Salary</th>\n",
       "    </tr>\n",
       "  </thead>\n",
       "  <tbody>\n",
       "    <tr>\n",
       "      <th>0</th>\n",
       "      <td>Production Planning Analyst - Calgary (6 Month...</td>\n",
       "      <td>None</td>\n",
       "      <td>The Home Depot Canada</td>\n",
       "      <td>None</td>\n",
       "    </tr>\n",
       "    <tr>\n",
       "      <th>1</th>\n",
       "      <td>Analytics Engineer</td>\n",
       "      <td>Ontario</td>\n",
       "      <td>MakeSpace</td>\n",
       "      <td>None</td>\n",
       "    </tr>\n",
       "    <tr>\n",
       "      <th>2</th>\n",
       "      <td>Field Vibration Analyst/Engineer</td>\n",
       "      <td>Calgary, AB</td>\n",
       "      <td>AP Dynamics</td>\n",
       "      <td>None</td>\n",
       "    </tr>\n",
       "    <tr>\n",
       "      <th>3</th>\n",
       "      <td>Azure Synapse Analytics (DW) Engineer</td>\n",
       "      <td>Toronto, ON</td>\n",
       "      <td>SettleMate Consultants</td>\n",
       "      <td>$85,000 - $95,000 a year</td>\n",
       "    </tr>\n",
       "    <tr>\n",
       "      <th>4</th>\n",
       "      <td>Senior Business Intelligence Engineer</td>\n",
       "      <td>Toronto, ON</td>\n",
       "      <td>Snapchat</td>\n",
       "      <td>None</td>\n",
       "    </tr>\n",
       "  </tbody>\n",
       "</table>\n",
       "</div>"
      ],
      "text/plain": [
       "                                               Title     Location  \\\n",
       "0  Production Planning Analyst - Calgary (6 Month...         None   \n",
       "1                                 Analytics Engineer      Ontario   \n",
       "2                   Field Vibration Analyst/Engineer  Calgary, AB   \n",
       "3              Azure Synapse Analytics (DW) Engineer  Toronto, ON   \n",
       "4              Senior Business Intelligence Engineer  Toronto, ON   \n",
       "\n",
       "                  Company                    Salary  \n",
       "0   The Home Depot Canada                      None  \n",
       "1               MakeSpace                      None  \n",
       "2             AP Dynamics                      None  \n",
       "3  SettleMate Consultants  $85,000 - $95,000 a year  \n",
       "4                Snapchat                      None  "
      ]
     },
     "execution_count": 10,
     "metadata": {},
     "output_type": "execute_result"
    }
   ],
   "source": [
    "def parse(url):\n",
    "    time.sleep(sleep_timer)\n",
    "    html = requests.get(url)\n",
    "    soup = BeautifulSoup(html.content, 'html.parser', from_encoding=\"utf-8\")\n",
    "    df = pd.DataFrame(columns=[\"Title\",\"Location\",\"Company\",\"Salary\"])\n",
    "    for each in soup.find_all(class_= \"result\" ):\n",
    "        time.sleep(sleep_timer)\n",
    "        try: \n",
    "            title = each.find(class_='jobtitle').text.replace('\\n', '')\n",
    "        except:\n",
    "            title = 'None'\n",
    "        try:\n",
    "            location = each.find('span', {'class':\"location\" }).text.replace('\\n', '')\n",
    "        except:\n",
    "            location = 'None'\n",
    "        try: \n",
    "            company = each.find(class_='company').text.replace('\\n', '')\n",
    "        except:\n",
    "            company = 'None'\n",
    "        try:\n",
    "            salary = each.find('span', {'class':'no-wrap'}).text.replace('\\n', '')\n",
    "        except:\n",
    "            salary = 'None'\n",
    "        #synopsis = each.find('span', {'class':'summary'}).text.replace('\\n', '')\n",
    "        df = df.append({'Title':title, 'Location':location, 'Company':company, 'Salary':salary}, ignore_index=True)\n",
    "    return df\n",
    "df1 = parse(url)\n",
    "url_1 = url + \"&start=20\"\n",
    "url_2 = url + \"&start=40\"\n",
    "url_3 = url + \"&start=60\"\n",
    "url_4 = url + \"&start=80\"\n",
    "url_5 = url + \"&start=100\"\n",
    "url_6 = url + \"&start=120\"\n",
    "url_7 = url + \"&start=140\"\n",
    "url_8 = url + \"&start=160\"\n",
    "url_9 = url + \"&start=180\"\n",
    "url_10 = url + \"&start=200\"\n",
    "\n",
    "df2 = parse(url_1)\n",
    "time.sleep(sleep_timer)\n",
    "df3 = parse(url_2)\n",
    "time.sleep(sleep_timer)\n",
    "df4 = parse(url_3)\n",
    "time.sleep(sleep_timer)\n",
    "df5 = parse(url_4)\n",
    "time.sleep(sleep_timer)\n",
    "df6 = parse(url_5)\n",
    "time.sleep(sleep_timer)\n",
    "df7 = parse(url_6)\n",
    "time.sleep(sleep_timer)\n",
    "df8 = parse(url_7)\n",
    "time.sleep(sleep_timer)\n",
    "df9 = parse(url_8)\n",
    "time.sleep(sleep_timer)\n",
    "df10 = parse(url_9)\n",
    "time.sleep(sleep_timer)\n",
    "df11 = parse(url_10)\n",
    "\n",
    "data1 = pd.concat([df1, df2, df3, df4, df5, df6, df7, df8, df9, df10, df11], axis=0, ignore_index=True)\n",
    "data1.head()"
   ]
  },
  {
   "cell_type": "code",
   "execution_count": 11,
   "metadata": {},
   "outputs": [
    {
     "data": {
      "text/plain": [
       "(159, 4)"
      ]
     },
     "execution_count": 11,
     "metadata": {},
     "output_type": "execute_result"
    }
   ],
   "source": [
    "data1.shape"
   ]
  },
  {
   "cell_type": "code",
   "execution_count": 12,
   "metadata": {},
   "outputs": [],
   "source": [
    "data1.to_csv('data/data-raw-'+job_title_us+'-'+str(d2)+'.csv', index=False)"
   ]
  },
  {
   "cell_type": "markdown",
   "metadata": {},
   "source": [
    "Once we have the dataset, we can see that it has a lot of stuff that we don't need like \\n, $ etc. So let's clean up the data.\n",
    "\n",
    "When we check the data type of data1, we can see that <b>Salary</b> is stored as an object. In addition to that, Salary is defined as per year, per month, per week and per hour. In order for our analysis to work, we need to have salary displayed as per year and the column salary itself should be either <b>*float*</b> or <b>*int*</b>."
   ]
  },
  {
   "cell_type": "code",
   "execution_count": 13,
   "metadata": {},
   "outputs": [
    {
     "data": {
      "text/plain": [
       "Title       object\n",
       "Location    object\n",
       "Company     object\n",
       "Salary      object\n",
       "dtype: object"
      ]
     },
     "execution_count": 13,
     "metadata": {},
     "output_type": "execute_result"
    }
   ],
   "source": [
    "data1.dtypes # here, salary is an object"
   ]
  },
  {
   "cell_type": "code",
   "execution_count": 14,
   "metadata": {},
   "outputs": [],
   "source": [
    "data_sal_year_temp = data1[data1['Salary'].str.contains(' a year')].reset_index(drop=True)\n",
    "data_sal_year_1a = data_sal_year_temp.replace(' a year', '', regex=True) # replace 'a year'\n",
    "data_sal_year_1 = data_sal_year_1a.replace('\\n', '', regex=True) # replace \\n\n",
    "data_sal_year_2 = data_sal_year_1.replace('[\\$,)]', '', regex=True) # replace $\n",
    "data_sal_year_3a = data_sal_year_2['Salary'].str.split('-', expand=True)\n",
    "data_sal_year_3a.iloc[:, :] = data_sal_year_3a.iloc[:, :].astype('float')\n",
    "data_sal_year_3b = data_sal_year_3a.sum(axis=1).astype('float')\n",
    "data_sal_year_3c = (data_sal_year_3b/2)\n",
    "data_sal_year_3 = data_sal_year_3c.astype('int')\n",
    "data_sal_year_5 = pd.concat([data_sal_year_2, data_sal_year_3], axis=1, sort=True)\n",
    "data_sal_year_6 = data_sal_year_5.drop(['Salary'], axis=1)"
   ]
  },
  {
   "cell_type": "markdown",
   "metadata": {},
   "source": [
    "This segment takes the salary per month and converts it to per year"
   ]
  },
  {
   "cell_type": "code",
   "execution_count": 15,
   "metadata": {},
   "outputs": [],
   "source": [
    "data_sal_month_temp = data1[data1['Salary'].str.contains(' a month')].reset_index(drop=True)\n",
    "data_sal_month_1a = data_sal_month_temp.replace(' a month', '', regex=True)\n",
    "data_sal_month_1 = data_sal_month_1a.replace('\\n', '', regex=True)\n",
    "data_sal_month_2 = data_sal_month_1.replace('[\\$,)]', '', regex=True)\n",
    "data_sal_month_3a = data_sal_month_2['Salary'].str.split('-', expand=True)\n",
    "data_sal_month_3a.iloc[:, :] = data_sal_month_3a.iloc[:, :].astype('float')\n",
    "data_sal_month_3b = data_sal_month_3a.sum(axis=1).astype('float')\n",
    "data_sal_month_3c = (data_sal_month_3b/2) * 12\n",
    "data_sal_month_3 = data_sal_month_3c.astype('int')\n",
    "data_sal_month_5 = pd.concat([data_sal_month_2, data_sal_month_3], axis=1, sort=True)\n",
    "data_sal_month_6 = data_sal_month_5.drop(['Salary'], axis=1)"
   ]
  },
  {
   "cell_type": "markdown",
   "metadata": {},
   "source": [
    "This segment takes the salary per week and converts it to per year"
   ]
  },
  {
   "cell_type": "code",
   "execution_count": 16,
   "metadata": {},
   "outputs": [],
   "source": [
    "data_sal_week_temp = data1[data1['Salary'].str.contains(' a week')].reset_index(drop=True)\n",
    "data_sal_week_1a = data_sal_week_temp.replace(' a week', '', regex=True)\n",
    "data_sal_week_1 = data_sal_week_1a.replace('\\n', '', regex=True)\n",
    "data_sal_week_2 = data_sal_week_1.replace('[\\$,)]', '', regex=True)\n",
    "data_sal_week_3a = data_sal_week_2['Salary'].str.split('-', expand=True)\n",
    "data_sal_week_3a.iloc[:, :] = data_sal_week_3a.iloc[:, :].astype('float')\n",
    "data_sal_week_3b = data_sal_week_3a.sum(axis=1).astype('float')\n",
    "data_sal_week_3c = (data_sal_week_3b/2) * 52\n",
    "data_sal_week_3 = data_sal_week_3c.astype('int')\n",
    "data_sal_week_5 = pd.concat([data_sal_week_2, data_sal_week_3], axis=1, sort=True)\n",
    "data_sal_week_6 = data_sal_week_5.drop(['Salary'], axis=1)"
   ]
  },
  {
   "cell_type": "markdown",
   "metadata": {},
   "source": [
    "This segment takes the salary per hour and converts it to per year"
   ]
  },
  {
   "cell_type": "code",
   "execution_count": 17,
   "metadata": {},
   "outputs": [],
   "source": [
    "data_sal_hour_temp = data1[data1['Salary'].str.contains(' an hour')].reset_index(drop=True)\n",
    "data_sal_hour_1a = data_sal_hour_temp.replace(' an hour', '', regex=True)\n",
    "data_sal_hour_1 = data_sal_hour_1a.replace('\\n', '', regex=True)\n",
    "data_sal_hour_2 = data_sal_hour_1.replace('[\\$,)]', '', regex=True)\n",
    "data_sal_hour_3a = data_sal_hour_2['Salary'].str.split('-', expand=True)\n",
    "data_sal_hour_3a.iloc[:, :] = data_sal_hour_3a.iloc[:, :].astype('float')\n",
    "data_sal_hour_3b = data_sal_hour_3a.sum(axis=1).astype('float')\n",
    "data_sal_hour_3c = (data_sal_hour_3b/2) * 40 * 52\n",
    "data_sal_hour_3 = data_sal_hour_3c.astype('int')\n",
    "data_sal_hour_5 = pd.concat([data_sal_hour_2, data_sal_hour_3], axis=1, sort=True)\n",
    "data_sal_hour_6 = data_sal_hour_5.drop(['Salary'], axis=1)"
   ]
  },
  {
   "cell_type": "markdown",
   "metadata": {},
   "source": [
    "Let's sort the rows that don't have any salary mentioned and save them in <b>data_sal_none_temp</b>"
   ]
  },
  {
   "cell_type": "code",
   "execution_count": 18,
   "metadata": {},
   "outputs": [
    {
     "data": {
      "text/html": [
       "<div>\n",
       "<style scoped>\n",
       "    .dataframe tbody tr th:only-of-type {\n",
       "        vertical-align: middle;\n",
       "    }\n",
       "\n",
       "    .dataframe tbody tr th {\n",
       "        vertical-align: top;\n",
       "    }\n",
       "\n",
       "    .dataframe thead th {\n",
       "        text-align: right;\n",
       "    }\n",
       "</style>\n",
       "<table border=\"1\" class=\"dataframe\">\n",
       "  <thead>\n",
       "    <tr style=\"text-align: right;\">\n",
       "      <th></th>\n",
       "      <th>Title</th>\n",
       "      <th>Location</th>\n",
       "      <th>Company</th>\n",
       "      <th>Salary</th>\n",
       "    </tr>\n",
       "  </thead>\n",
       "  <tbody>\n",
       "    <tr>\n",
       "      <th>0</th>\n",
       "      <td>Production Planning Analyst - Calgary (6 Month...</td>\n",
       "      <td>None</td>\n",
       "      <td>The Home Depot Canada</td>\n",
       "      <td>None</td>\n",
       "    </tr>\n",
       "    <tr>\n",
       "      <th>1</th>\n",
       "      <td>Analytics Engineer</td>\n",
       "      <td>Ontario</td>\n",
       "      <td>MakeSpace</td>\n",
       "      <td>None</td>\n",
       "    </tr>\n",
       "    <tr>\n",
       "      <th>2</th>\n",
       "      <td>Field Vibration Analyst/Engineer</td>\n",
       "      <td>Calgary, AB</td>\n",
       "      <td>AP Dynamics</td>\n",
       "      <td>None</td>\n",
       "    </tr>\n",
       "    <tr>\n",
       "      <th>3</th>\n",
       "      <td>Senior Business Intelligence Engineer</td>\n",
       "      <td>Toronto, ON</td>\n",
       "      <td>Snapchat</td>\n",
       "      <td>None</td>\n",
       "    </tr>\n",
       "    <tr>\n",
       "      <th>4</th>\n",
       "      <td>Engineering Analyst - South Paint</td>\n",
       "      <td>Cambridge, ON</td>\n",
       "      <td>Toyota Motor Manufacturing Canada</td>\n",
       "      <td>None</td>\n",
       "    </tr>\n",
       "  </tbody>\n",
       "</table>\n",
       "</div>"
      ],
      "text/plain": [
       "                                               Title       Location  \\\n",
       "0  Production Planning Analyst - Calgary (6 Month...           None   \n",
       "1                                 Analytics Engineer        Ontario   \n",
       "2                   Field Vibration Analyst/Engineer    Calgary, AB   \n",
       "3              Senior Business Intelligence Engineer    Toronto, ON   \n",
       "4                  Engineering Analyst - South Paint  Cambridge, ON   \n",
       "\n",
       "                             Company Salary  \n",
       "0              The Home Depot Canada   None  \n",
       "1                          MakeSpace   None  \n",
       "2                        AP Dynamics   None  \n",
       "3                           Snapchat   None  \n",
       "4  Toyota Motor Manufacturing Canada   None  "
      ]
     },
     "execution_count": 18,
     "metadata": {},
     "output_type": "execute_result"
    }
   ],
   "source": [
    "data_sal_none_temp = data1[data1['Salary'].str.contains('None')].reset_index(drop=True)\n",
    "data_sal_none_temp.head()"
   ]
  },
  {
   "cell_type": "markdown",
   "metadata": {},
   "source": [
    "Now let's bring together our newly formed dataset and save it as <b>data_sal_all</b> and rename the table header as <b>Title</b>, <b>Location</b>, <b>Company</b> and <b>Salary</b>"
   ]
  },
  {
   "cell_type": "code",
   "execution_count": 19,
   "metadata": {},
   "outputs": [
    {
     "data": {
      "text/html": [
       "<div>\n",
       "<style scoped>\n",
       "    .dataframe tbody tr th:only-of-type {\n",
       "        vertical-align: middle;\n",
       "    }\n",
       "\n",
       "    .dataframe tbody tr th {\n",
       "        vertical-align: top;\n",
       "    }\n",
       "\n",
       "    .dataframe thead th {\n",
       "        text-align: right;\n",
       "    }\n",
       "</style>\n",
       "<table border=\"1\" class=\"dataframe\">\n",
       "  <thead>\n",
       "    <tr style=\"text-align: right;\">\n",
       "      <th></th>\n",
       "      <th>Title</th>\n",
       "      <th>Location</th>\n",
       "      <th>Company</th>\n",
       "      <th>Salary</th>\n",
       "    </tr>\n",
       "  </thead>\n",
       "  <tbody>\n",
       "    <tr>\n",
       "      <th>0</th>\n",
       "      <td>Engineering Work Experience Student (Operation...</td>\n",
       "      <td>Edmonton AB</td>\n",
       "      <td>City of Edmonton</td>\n",
       "      <td>62774</td>\n",
       "    </tr>\n",
       "    <tr>\n",
       "      <th>1</th>\n",
       "      <td>Engineering Work Experience Student (Operation...</td>\n",
       "      <td>Edmonton AB</td>\n",
       "      <td>City of Edmonton</td>\n",
       "      <td>62774</td>\n",
       "    </tr>\n",
       "    <tr>\n",
       "      <th>2</th>\n",
       "      <td>Engineering Work Experience Student (Operation...</td>\n",
       "      <td>Edmonton AB</td>\n",
       "      <td>City of Edmonton</td>\n",
       "      <td>62774</td>\n",
       "    </tr>\n",
       "    <tr>\n",
       "      <th>3</th>\n",
       "      <td>Engineering Work Experience Student (Operation...</td>\n",
       "      <td>Edmonton AB</td>\n",
       "      <td>City of Edmonton</td>\n",
       "      <td>62774</td>\n",
       "    </tr>\n",
       "    <tr>\n",
       "      <th>4</th>\n",
       "      <td>Engineering Work Experience Student (Operation...</td>\n",
       "      <td>Edmonton AB</td>\n",
       "      <td>City of Edmonton</td>\n",
       "      <td>62774</td>\n",
       "    </tr>\n",
       "  </tbody>\n",
       "</table>\n",
       "</div>"
      ],
      "text/plain": [
       "                                               Title     Location  \\\n",
       "0  Engineering Work Experience Student (Operation...  Edmonton AB   \n",
       "1  Engineering Work Experience Student (Operation...  Edmonton AB   \n",
       "2  Engineering Work Experience Student (Operation...  Edmonton AB   \n",
       "3  Engineering Work Experience Student (Operation...  Edmonton AB   \n",
       "4  Engineering Work Experience Student (Operation...  Edmonton AB   \n",
       "\n",
       "            Company  Salary  \n",
       "0  City of Edmonton   62774  \n",
       "1  City of Edmonton   62774  \n",
       "2  City of Edmonton   62774  \n",
       "3  City of Edmonton   62774  \n",
       "4  City of Edmonton   62774  "
      ]
     },
     "execution_count": 19,
     "metadata": {},
     "output_type": "execute_result"
    }
   ],
   "source": [
    "data_sal_all = pd.concat([data_sal_year_6, data_sal_month_6, data_sal_week_6, data_sal_hour_6], axis=0, sort=True)\n",
    "data_sal_all.columns = ['Title', 'Location', 'Company', 'Salary']\n",
    "data_sal_all.sort_values(by='Salary',ascending=True, inplace=True)\n",
    "data_sal_all.head()"
   ]
  },
  {
   "cell_type": "markdown",
   "metadata": {},
   "source": [
    "Now, let's join the two data sets, <b>data_sal_all</b> and <b>data_sal_none_temp</b> and save them in <b>data_sal_all_1</b>"
   ]
  },
  {
   "cell_type": "code",
   "execution_count": 20,
   "metadata": {},
   "outputs": [
    {
     "data": {
      "text/html": [
       "<div>\n",
       "<style scoped>\n",
       "    .dataframe tbody tr th:only-of-type {\n",
       "        vertical-align: middle;\n",
       "    }\n",
       "\n",
       "    .dataframe tbody tr th {\n",
       "        vertical-align: top;\n",
       "    }\n",
       "\n",
       "    .dataframe thead th {\n",
       "        text-align: right;\n",
       "    }\n",
       "</style>\n",
       "<table border=\"1\" class=\"dataframe\">\n",
       "  <thead>\n",
       "    <tr style=\"text-align: right;\">\n",
       "      <th></th>\n",
       "      <th>Company</th>\n",
       "      <th>Location</th>\n",
       "      <th>Salary</th>\n",
       "      <th>Title</th>\n",
       "    </tr>\n",
       "  </thead>\n",
       "  <tbody>\n",
       "    <tr>\n",
       "      <th>0</th>\n",
       "      <td>City of Edmonton</td>\n",
       "      <td>Edmonton AB</td>\n",
       "      <td>62774</td>\n",
       "      <td>Engineering Work Experience Student (Operation...</td>\n",
       "    </tr>\n",
       "    <tr>\n",
       "      <th>1</th>\n",
       "      <td>City of Edmonton</td>\n",
       "      <td>Edmonton AB</td>\n",
       "      <td>62774</td>\n",
       "      <td>Engineering Work Experience Student (Operation...</td>\n",
       "    </tr>\n",
       "    <tr>\n",
       "      <th>2</th>\n",
       "      <td>City of Edmonton</td>\n",
       "      <td>Edmonton AB</td>\n",
       "      <td>62774</td>\n",
       "      <td>Engineering Work Experience Student (Operation...</td>\n",
       "    </tr>\n",
       "    <tr>\n",
       "      <th>3</th>\n",
       "      <td>City of Edmonton</td>\n",
       "      <td>Edmonton AB</td>\n",
       "      <td>62774</td>\n",
       "      <td>Engineering Work Experience Student (Operation...</td>\n",
       "    </tr>\n",
       "    <tr>\n",
       "      <th>4</th>\n",
       "      <td>City of Edmonton</td>\n",
       "      <td>Edmonton AB</td>\n",
       "      <td>62774</td>\n",
       "      <td>Engineering Work Experience Student (Operation...</td>\n",
       "    </tr>\n",
       "  </tbody>\n",
       "</table>\n",
       "</div>"
      ],
      "text/plain": [
       "            Company     Location Salary  \\\n",
       "0  City of Edmonton  Edmonton AB  62774   \n",
       "1  City of Edmonton  Edmonton AB  62774   \n",
       "2  City of Edmonton  Edmonton AB  62774   \n",
       "3  City of Edmonton  Edmonton AB  62774   \n",
       "4  City of Edmonton  Edmonton AB  62774   \n",
       "\n",
       "                                               Title  \n",
       "0  Engineering Work Experience Student (Operation...  \n",
       "1  Engineering Work Experience Student (Operation...  \n",
       "2  Engineering Work Experience Student (Operation...  \n",
       "3  Engineering Work Experience Student (Operation...  \n",
       "4  Engineering Work Experience Student (Operation...  "
      ]
     },
     "execution_count": 20,
     "metadata": {},
     "output_type": "execute_result"
    }
   ],
   "source": [
    "data_sal_all_1 = pd.concat([data_sal_all, data_sal_none_temp], axis=0, sort=True)\n",
    "data_sal_all_1.head()"
   ]
  },
  {
   "cell_type": "markdown",
   "metadata": {},
   "source": [
    "Let's see the shape of <b>data_sal_all_1</b>"
   ]
  },
  {
   "cell_type": "code",
   "execution_count": 21,
   "metadata": {},
   "outputs": [
    {
     "data": {
      "text/plain": [
       "(159, 4)"
      ]
     },
     "execution_count": 21,
     "metadata": {},
     "output_type": "execute_result"
    }
   ],
   "source": [
    "data_sal_all_1.shape"
   ]
  },
  {
   "cell_type": "markdown",
   "metadata": {},
   "source": [
    "The shape of <b>data_sal_all_1</b> is <b>(283, 5)</b> which is same as the shape of <b>data1</b>.\n",
    "This proves that we successfully managed to merge the 2 datasets without missing any row."
   ]
  },
  {
   "cell_type": "markdown",
   "metadata": {},
   "source": [
    "Now let's replace <b>'None'</b> values with <b>np.nan</b> and change the data type of <b>Salary</b> to *float*"
   ]
  },
  {
   "cell_type": "code",
   "execution_count": 22,
   "metadata": {
    "scrolled": true
   },
   "outputs": [
    {
     "data": {
      "text/plain": [
       "0      62774.0\n",
       "1      62774.0\n",
       "2      62774.0\n",
       "3      62774.0\n",
       "4      62774.0\n",
       "5      62774.0\n",
       "6      62774.0\n",
       "7      62774.0\n",
       "0      90000.0\n",
       "1      90000.0\n",
       "2      90000.0\n",
       "0          NaN\n",
       "1          NaN\n",
       "2          NaN\n",
       "3          NaN\n",
       "4          NaN\n",
       "5          NaN\n",
       "6          NaN\n",
       "7          NaN\n",
       "8          NaN\n",
       "9          NaN\n",
       "10         NaN\n",
       "11         NaN\n",
       "12         NaN\n",
       "13         NaN\n",
       "14         NaN\n",
       "15         NaN\n",
       "16         NaN\n",
       "17         NaN\n",
       "18         NaN\n",
       "        ...   \n",
       "118        NaN\n",
       "119        NaN\n",
       "120        NaN\n",
       "121        NaN\n",
       "122        NaN\n",
       "123        NaN\n",
       "124        NaN\n",
       "125        NaN\n",
       "126        NaN\n",
       "127        NaN\n",
       "128        NaN\n",
       "129        NaN\n",
       "130        NaN\n",
       "131        NaN\n",
       "132        NaN\n",
       "133        NaN\n",
       "134        NaN\n",
       "135        NaN\n",
       "136        NaN\n",
       "137        NaN\n",
       "138        NaN\n",
       "139        NaN\n",
       "140        NaN\n",
       "141        NaN\n",
       "142        NaN\n",
       "143        NaN\n",
       "144        NaN\n",
       "145        NaN\n",
       "146        NaN\n",
       "147        NaN\n",
       "Name: Salary, Length: 159, dtype: float64"
      ]
     },
     "execution_count": 22,
     "metadata": {},
     "output_type": "execute_result"
    }
   ],
   "source": [
    "data5a = data_sal_all_1.replace('None',np.nan, regex=True)\n",
    "data5a['Salary'].astype('float')"
   ]
  },
  {
   "cell_type": "markdown",
   "metadata": {},
   "source": [
    "Now, let's find the mean of the the cell Sa;ary using the .mean() method"
   ]
  },
  {
   "cell_type": "code",
   "execution_count": 23,
   "metadata": {},
   "outputs": [
    {
     "data": {
      "text/plain": [
       "70199.27272727272"
      ]
     },
     "execution_count": 23,
     "metadata": {},
     "output_type": "execute_result"
    }
   ],
   "source": [
    "mean_1 = data5a['Salary'].mean()\n",
    "mean_1"
   ]
  },
  {
   "cell_type": "markdown",
   "metadata": {},
   "source": [
    "We can now replace the np.nan cells with the mean salary obtained in the previous step.\n",
    "\n",
    "Let's also change the datatype to *int*"
   ]
  },
  {
   "cell_type": "code",
   "execution_count": 24,
   "metadata": {
    "scrolled": true
   },
   "outputs": [],
   "source": [
    "data5b = data5a['Salary'].replace(np.nan, mean_1)\n",
    "data5ba = data5b.astype('int')"
   ]
  },
  {
   "cell_type": "markdown",
   "metadata": {},
   "source": [
    "Let's concact this salary to our previous dataframe <b>data_sal_all_1</b>"
   ]
  },
  {
   "cell_type": "code",
   "execution_count": 25,
   "metadata": {},
   "outputs": [
    {
     "data": {
      "text/html": [
       "<div>\n",
       "<style scoped>\n",
       "    .dataframe tbody tr th:only-of-type {\n",
       "        vertical-align: middle;\n",
       "    }\n",
       "\n",
       "    .dataframe tbody tr th {\n",
       "        vertical-align: top;\n",
       "    }\n",
       "\n",
       "    .dataframe thead th {\n",
       "        text-align: right;\n",
       "    }\n",
       "</style>\n",
       "<table border=\"1\" class=\"dataframe\">\n",
       "  <thead>\n",
       "    <tr style=\"text-align: right;\">\n",
       "      <th></th>\n",
       "      <th>index</th>\n",
       "      <th>Company</th>\n",
       "      <th>Location</th>\n",
       "      <th>Salary</th>\n",
       "      <th>Title</th>\n",
       "      <th>Salary</th>\n",
       "    </tr>\n",
       "  </thead>\n",
       "  <tbody>\n",
       "    <tr>\n",
       "      <th>0</th>\n",
       "      <td>0</td>\n",
       "      <td>City of Edmonton</td>\n",
       "      <td>Edmonton AB</td>\n",
       "      <td>62774</td>\n",
       "      <td>Engineering Work Experience Student (Operation...</td>\n",
       "      <td>62774</td>\n",
       "    </tr>\n",
       "    <tr>\n",
       "      <th>1</th>\n",
       "      <td>1</td>\n",
       "      <td>City of Edmonton</td>\n",
       "      <td>Edmonton AB</td>\n",
       "      <td>62774</td>\n",
       "      <td>Engineering Work Experience Student (Operation...</td>\n",
       "      <td>62774</td>\n",
       "    </tr>\n",
       "    <tr>\n",
       "      <th>2</th>\n",
       "      <td>2</td>\n",
       "      <td>City of Edmonton</td>\n",
       "      <td>Edmonton AB</td>\n",
       "      <td>62774</td>\n",
       "      <td>Engineering Work Experience Student (Operation...</td>\n",
       "      <td>62774</td>\n",
       "    </tr>\n",
       "    <tr>\n",
       "      <th>3</th>\n",
       "      <td>3</td>\n",
       "      <td>City of Edmonton</td>\n",
       "      <td>Edmonton AB</td>\n",
       "      <td>62774</td>\n",
       "      <td>Engineering Work Experience Student (Operation...</td>\n",
       "      <td>62774</td>\n",
       "    </tr>\n",
       "    <tr>\n",
       "      <th>4</th>\n",
       "      <td>4</td>\n",
       "      <td>City of Edmonton</td>\n",
       "      <td>Edmonton AB</td>\n",
       "      <td>62774</td>\n",
       "      <td>Engineering Work Experience Student (Operation...</td>\n",
       "      <td>62774</td>\n",
       "    </tr>\n",
       "    <tr>\n",
       "      <th>5</th>\n",
       "      <td>5</td>\n",
       "      <td>City of Edmonton</td>\n",
       "      <td>Edmonton AB</td>\n",
       "      <td>62774</td>\n",
       "      <td>Engineering Work Experience Student (Operation...</td>\n",
       "      <td>62774</td>\n",
       "    </tr>\n",
       "    <tr>\n",
       "      <th>6</th>\n",
       "      <td>6</td>\n",
       "      <td>City of Edmonton</td>\n",
       "      <td>Edmonton AB</td>\n",
       "      <td>62774</td>\n",
       "      <td>Engineering Work Experience Student (Operation...</td>\n",
       "      <td>62774</td>\n",
       "    </tr>\n",
       "    <tr>\n",
       "      <th>7</th>\n",
       "      <td>7</td>\n",
       "      <td>City of Edmonton</td>\n",
       "      <td>Edmonton AB</td>\n",
       "      <td>62774</td>\n",
       "      <td>Engineering Work Experience Student (Operation...</td>\n",
       "      <td>62774</td>\n",
       "    </tr>\n",
       "    <tr>\n",
       "      <th>8</th>\n",
       "      <td>0</td>\n",
       "      <td>SettleMate Consultants</td>\n",
       "      <td>Toronto ON</td>\n",
       "      <td>90000</td>\n",
       "      <td>Azure Synapse Analytics (DW Engineer</td>\n",
       "      <td>90000</td>\n",
       "    </tr>\n",
       "    <tr>\n",
       "      <th>9</th>\n",
       "      <td>1</td>\n",
       "      <td>Maple</td>\n",
       "      <td>Toronto ON</td>\n",
       "      <td>90000</td>\n",
       "      <td>Analytics Engineer</td>\n",
       "      <td>90000</td>\n",
       "    </tr>\n",
       "    <tr>\n",
       "      <th>10</th>\n",
       "      <td>2</td>\n",
       "      <td>Maple</td>\n",
       "      <td>Toronto ON</td>\n",
       "      <td>90000</td>\n",
       "      <td>Analytics Engineer</td>\n",
       "      <td>90000</td>\n",
       "    </tr>\n",
       "    <tr>\n",
       "      <th>11</th>\n",
       "      <td>0</td>\n",
       "      <td>The Home Depot Canada</td>\n",
       "      <td>None</td>\n",
       "      <td>None</td>\n",
       "      <td>Production Planning Analyst - Calgary (6 Month...</td>\n",
       "      <td>70199</td>\n",
       "    </tr>\n",
       "    <tr>\n",
       "      <th>12</th>\n",
       "      <td>1</td>\n",
       "      <td>MakeSpace</td>\n",
       "      <td>Ontario</td>\n",
       "      <td>None</td>\n",
       "      <td>Analytics Engineer</td>\n",
       "      <td>70199</td>\n",
       "    </tr>\n",
       "    <tr>\n",
       "      <th>13</th>\n",
       "      <td>2</td>\n",
       "      <td>AP Dynamics</td>\n",
       "      <td>Calgary, AB</td>\n",
       "      <td>None</td>\n",
       "      <td>Field Vibration Analyst/Engineer</td>\n",
       "      <td>70199</td>\n",
       "    </tr>\n",
       "    <tr>\n",
       "      <th>14</th>\n",
       "      <td>3</td>\n",
       "      <td>Snapchat</td>\n",
       "      <td>Toronto, ON</td>\n",
       "      <td>None</td>\n",
       "      <td>Senior Business Intelligence Engineer</td>\n",
       "      <td>70199</td>\n",
       "    </tr>\n",
       "    <tr>\n",
       "      <th>15</th>\n",
       "      <td>4</td>\n",
       "      <td>Toyota Motor Manufacturing Canada</td>\n",
       "      <td>Cambridge, ON</td>\n",
       "      <td>None</td>\n",
       "      <td>Engineering Analyst - South Paint</td>\n",
       "      <td>70199</td>\n",
       "    </tr>\n",
       "    <tr>\n",
       "      <th>16</th>\n",
       "      <td>5</td>\n",
       "      <td>Hollyburn Properties Ltd.</td>\n",
       "      <td>None</td>\n",
       "      <td>None</td>\n",
       "      <td>Energy Analyst (Contract)</td>\n",
       "      <td>70199</td>\n",
       "    </tr>\n",
       "    <tr>\n",
       "      <th>17</th>\n",
       "      <td>6</td>\n",
       "      <td>Compass Digital Labs</td>\n",
       "      <td>Mississauga, ON</td>\n",
       "      <td>None</td>\n",
       "      <td>BI Engineer (Contract)</td>\n",
       "      <td>70199</td>\n",
       "    </tr>\n",
       "    <tr>\n",
       "      <th>18</th>\n",
       "      <td>7</td>\n",
       "      <td>Canada Post - Postes Canada</td>\n",
       "      <td>Hamilton, ON</td>\n",
       "      <td>None</td>\n",
       "      <td>Analyst, Process Engineering - Hamilton</td>\n",
       "      <td>70199</td>\n",
       "    </tr>\n",
       "    <tr>\n",
       "      <th>19</th>\n",
       "      <td>8</td>\n",
       "      <td>Toyota Motor Manufacturing Canada</td>\n",
       "      <td>Cambridge, ON</td>\n",
       "      <td>None</td>\n",
       "      <td>Engineering Analyst, Customer Satisfaction - Q...</td>\n",
       "      <td>70199</td>\n",
       "    </tr>\n",
       "    <tr>\n",
       "      <th>20</th>\n",
       "      <td>9</td>\n",
       "      <td>ACV Auctions</td>\n",
       "      <td>Toronto, ON</td>\n",
       "      <td>None</td>\n",
       "      <td>Sr. Analytics Engineer</td>\n",
       "      <td>70199</td>\n",
       "    </tr>\n",
       "    <tr>\n",
       "      <th>21</th>\n",
       "      <td>10</td>\n",
       "      <td>Sonder</td>\n",
       "      <td>Toronto, ON</td>\n",
       "      <td>None</td>\n",
       "      <td>BI Engineer</td>\n",
       "      <td>70199</td>\n",
       "    </tr>\n",
       "    <tr>\n",
       "      <th>22</th>\n",
       "      <td>11</td>\n",
       "      <td>Toronto Hydro</td>\n",
       "      <td>Toronto, ON</td>\n",
       "      <td>None</td>\n",
       "      <td>Contract, Capital &amp; Maintenance Program Analyst</td>\n",
       "      <td>70199</td>\n",
       "    </tr>\n",
       "    <tr>\n",
       "      <th>23</th>\n",
       "      <td>12</td>\n",
       "      <td>ACV Auctions</td>\n",
       "      <td>Toronto, ON</td>\n",
       "      <td>None</td>\n",
       "      <td>Sr. Analytics Engineer</td>\n",
       "      <td>70199</td>\n",
       "    </tr>\n",
       "    <tr>\n",
       "      <th>24</th>\n",
       "      <td>13</td>\n",
       "      <td>Toyota Motor Manufacturing Canada</td>\n",
       "      <td>Cambridge, ON</td>\n",
       "      <td>None</td>\n",
       "      <td>Engineering Analyst, Customer Satisfaction - Q...</td>\n",
       "      <td>70199</td>\n",
       "    </tr>\n",
       "    <tr>\n",
       "      <th>25</th>\n",
       "      <td>14</td>\n",
       "      <td>Sonder</td>\n",
       "      <td>Toronto, ON</td>\n",
       "      <td>None</td>\n",
       "      <td>BI Engineer</td>\n",
       "      <td>70199</td>\n",
       "    </tr>\n",
       "    <tr>\n",
       "      <th>26</th>\n",
       "      <td>15</td>\n",
       "      <td>Scotiabank</td>\n",
       "      <td>Toronto, ON</td>\n",
       "      <td>None</td>\n",
       "      <td>Platform Engineer (Oracle Business Intelligenc...</td>\n",
       "      <td>70199</td>\n",
       "    </tr>\n",
       "    <tr>\n",
       "      <th>27</th>\n",
       "      <td>16</td>\n",
       "      <td>Toronto Hydro</td>\n",
       "      <td>Toronto, ON</td>\n",
       "      <td>None</td>\n",
       "      <td>Contract, Capital &amp; Maintenance Program Analyst</td>\n",
       "      <td>70199</td>\n",
       "    </tr>\n",
       "    <tr>\n",
       "      <th>28</th>\n",
       "      <td>17</td>\n",
       "      <td>ecobee</td>\n",
       "      <td>Toronto, ON</td>\n",
       "      <td>None</td>\n",
       "      <td>Senior BI Engineer</td>\n",
       "      <td>70199</td>\n",
       "    </tr>\n",
       "    <tr>\n",
       "      <th>29</th>\n",
       "      <td>18</td>\n",
       "      <td>ACV Auctions</td>\n",
       "      <td>Toronto, ON</td>\n",
       "      <td>None</td>\n",
       "      <td>Analytics Engineer, III</td>\n",
       "      <td>70199</td>\n",
       "    </tr>\n",
       "    <tr>\n",
       "      <th>...</th>\n",
       "      <td>...</td>\n",
       "      <td>...</td>\n",
       "      <td>...</td>\n",
       "      <td>...</td>\n",
       "      <td>...</td>\n",
       "      <td>...</td>\n",
       "    </tr>\n",
       "    <tr>\n",
       "      <th>129</th>\n",
       "      <td>118</td>\n",
       "      <td>Deloitte</td>\n",
       "      <td>Toronto, ON</td>\n",
       "      <td>None</td>\n",
       "      <td>Manager - Financial Engineering and Modeling, ...</td>\n",
       "      <td>70199</td>\n",
       "    </tr>\n",
       "    <tr>\n",
       "      <th>130</th>\n",
       "      <td>119</td>\n",
       "      <td>Toronto Hydro</td>\n",
       "      <td>Toronto, ON</td>\n",
       "      <td>None</td>\n",
       "      <td>Capital &amp; Maintenance Program Analyst</td>\n",
       "      <td>70199</td>\n",
       "    </tr>\n",
       "    <tr>\n",
       "      <th>131</th>\n",
       "      <td>120</td>\n",
       "      <td>Hollyburn Properties Ltd.</td>\n",
       "      <td>None</td>\n",
       "      <td>None</td>\n",
       "      <td>Energy Analyst (Contract)</td>\n",
       "      <td>70199</td>\n",
       "    </tr>\n",
       "    <tr>\n",
       "      <th>132</th>\n",
       "      <td>121</td>\n",
       "      <td>Toyota Motor Manufacturing Canada</td>\n",
       "      <td>Cambridge, ON</td>\n",
       "      <td>None</td>\n",
       "      <td>Engineering Analyst, Customer Satisfaction - Q...</td>\n",
       "      <td>70199</td>\n",
       "    </tr>\n",
       "    <tr>\n",
       "      <th>133</th>\n",
       "      <td>122</td>\n",
       "      <td>ACV Auctions</td>\n",
       "      <td>Toronto, ON</td>\n",
       "      <td>None</td>\n",
       "      <td>Sr. Analytics Engineer</td>\n",
       "      <td>70199</td>\n",
       "    </tr>\n",
       "    <tr>\n",
       "      <th>134</th>\n",
       "      <td>123</td>\n",
       "      <td>Sonder</td>\n",
       "      <td>Toronto, ON</td>\n",
       "      <td>None</td>\n",
       "      <td>BI Engineer</td>\n",
       "      <td>70199</td>\n",
       "    </tr>\n",
       "    <tr>\n",
       "      <th>135</th>\n",
       "      <td>124</td>\n",
       "      <td>Toronto Hydro</td>\n",
       "      <td>Toronto, ON</td>\n",
       "      <td>None</td>\n",
       "      <td>Contract, Capital &amp; Maintenance Program Analyst</td>\n",
       "      <td>70199</td>\n",
       "    </tr>\n",
       "    <tr>\n",
       "      <th>136</th>\n",
       "      <td>125</td>\n",
       "      <td>ACV Auctions</td>\n",
       "      <td>Toronto, ON</td>\n",
       "      <td>None</td>\n",
       "      <td>Analytics Engineer, III</td>\n",
       "      <td>70199</td>\n",
       "    </tr>\n",
       "    <tr>\n",
       "      <th>137</th>\n",
       "      <td>126</td>\n",
       "      <td>Scotiabank</td>\n",
       "      <td>Toronto, ON</td>\n",
       "      <td>None</td>\n",
       "      <td>Platform Engineer (Oracle Business Intelligenc...</td>\n",
       "      <td>70199</td>\n",
       "    </tr>\n",
       "    <tr>\n",
       "      <th>138</th>\n",
       "      <td>127</td>\n",
       "      <td>ecobee</td>\n",
       "      <td>Toronto, ON</td>\n",
       "      <td>None</td>\n",
       "      <td>Senior BI Engineer</td>\n",
       "      <td>70199</td>\n",
       "    </tr>\n",
       "    <tr>\n",
       "      <th>139</th>\n",
       "      <td>128</td>\n",
       "      <td>Deloitte</td>\n",
       "      <td>Toronto, ON</td>\n",
       "      <td>None</td>\n",
       "      <td>Analyst/Senior Associate - Financial Engineeri...</td>\n",
       "      <td>70199</td>\n",
       "    </tr>\n",
       "    <tr>\n",
       "      <th>140</th>\n",
       "      <td>129</td>\n",
       "      <td>Dundas Data Visualization</td>\n",
       "      <td>Canada</td>\n",
       "      <td>None</td>\n",
       "      <td>BI Solution Engineer - Customer Success</td>\n",
       "      <td>70199</td>\n",
       "    </tr>\n",
       "    <tr>\n",
       "      <th>141</th>\n",
       "      <td>130</td>\n",
       "      <td>CGI Inc</td>\n",
       "      <td>Montréal, QC</td>\n",
       "      <td>None</td>\n",
       "      <td>Ingénieur de données Azure/BI</td>\n",
       "      <td>70199</td>\n",
       "    </tr>\n",
       "    <tr>\n",
       "      <th>142</th>\n",
       "      <td>131</td>\n",
       "      <td>SurveyMonkey</td>\n",
       "      <td>Ottawa, ON</td>\n",
       "      <td>None</td>\n",
       "      <td>Director, Product Design for Market Research</td>\n",
       "      <td>70199</td>\n",
       "    </tr>\n",
       "    <tr>\n",
       "      <th>143</th>\n",
       "      <td>132</td>\n",
       "      <td>Toronto Hydro</td>\n",
       "      <td>Toronto, ON</td>\n",
       "      <td>None</td>\n",
       "      <td>Capital &amp; Maintenance Program Analyst</td>\n",
       "      <td>70199</td>\n",
       "    </tr>\n",
       "    <tr>\n",
       "      <th>144</th>\n",
       "      <td>133</td>\n",
       "      <td>Deloitte</td>\n",
       "      <td>Toronto, ON</td>\n",
       "      <td>None</td>\n",
       "      <td>Manager - Financial Engineering and Modeling, ...</td>\n",
       "      <td>70199</td>\n",
       "    </tr>\n",
       "    <tr>\n",
       "      <th>145</th>\n",
       "      <td>134</td>\n",
       "      <td>Toyota Motor Manufacturing Canada</td>\n",
       "      <td>Cambridge, ON</td>\n",
       "      <td>None</td>\n",
       "      <td>Engineering Analyst, Customer Satisfaction - Q...</td>\n",
       "      <td>70199</td>\n",
       "    </tr>\n",
       "    <tr>\n",
       "      <th>146</th>\n",
       "      <td>135</td>\n",
       "      <td>Hollyburn Properties Ltd.</td>\n",
       "      <td>None</td>\n",
       "      <td>None</td>\n",
       "      <td>Energy Analyst (Contract)</td>\n",
       "      <td>70199</td>\n",
       "    </tr>\n",
       "    <tr>\n",
       "      <th>147</th>\n",
       "      <td>136</td>\n",
       "      <td>ACV Auctions</td>\n",
       "      <td>Toronto, ON</td>\n",
       "      <td>None</td>\n",
       "      <td>Sr. Analytics Engineer</td>\n",
       "      <td>70199</td>\n",
       "    </tr>\n",
       "    <tr>\n",
       "      <th>148</th>\n",
       "      <td>137</td>\n",
       "      <td>Sonder</td>\n",
       "      <td>Toronto, ON</td>\n",
       "      <td>None</td>\n",
       "      <td>BI Engineer</td>\n",
       "      <td>70199</td>\n",
       "    </tr>\n",
       "    <tr>\n",
       "      <th>149</th>\n",
       "      <td>138</td>\n",
       "      <td>Toronto Hydro</td>\n",
       "      <td>Toronto, ON</td>\n",
       "      <td>None</td>\n",
       "      <td>Contract, Capital &amp; Maintenance Program Analyst</td>\n",
       "      <td>70199</td>\n",
       "    </tr>\n",
       "    <tr>\n",
       "      <th>150</th>\n",
       "      <td>139</td>\n",
       "      <td>Scotiabank</td>\n",
       "      <td>Toronto, ON</td>\n",
       "      <td>None</td>\n",
       "      <td>Platform Engineer (Oracle Business Intelligenc...</td>\n",
       "      <td>70199</td>\n",
       "    </tr>\n",
       "    <tr>\n",
       "      <th>151</th>\n",
       "      <td>140</td>\n",
       "      <td>ACV Auctions</td>\n",
       "      <td>Toronto, ON</td>\n",
       "      <td>None</td>\n",
       "      <td>Analytics Engineer, III</td>\n",
       "      <td>70199</td>\n",
       "    </tr>\n",
       "    <tr>\n",
       "      <th>152</th>\n",
       "      <td>141</td>\n",
       "      <td>Deloitte</td>\n",
       "      <td>Toronto, ON</td>\n",
       "      <td>None</td>\n",
       "      <td>Analyst/Senior Associate - Financial Engineeri...</td>\n",
       "      <td>70199</td>\n",
       "    </tr>\n",
       "    <tr>\n",
       "      <th>153</th>\n",
       "      <td>142</td>\n",
       "      <td>Dundas Data Visualization</td>\n",
       "      <td>Canada</td>\n",
       "      <td>None</td>\n",
       "      <td>BI Solution Engineer - Customer Success</td>\n",
       "      <td>70199</td>\n",
       "    </tr>\n",
       "    <tr>\n",
       "      <th>154</th>\n",
       "      <td>143</td>\n",
       "      <td>ecobee</td>\n",
       "      <td>Toronto, ON</td>\n",
       "      <td>None</td>\n",
       "      <td>Senior BI Engineer</td>\n",
       "      <td>70199</td>\n",
       "    </tr>\n",
       "    <tr>\n",
       "      <th>155</th>\n",
       "      <td>144</td>\n",
       "      <td>CGI Inc</td>\n",
       "      <td>Montréal, QC</td>\n",
       "      <td>None</td>\n",
       "      <td>Ingénieur de données Azure/BI</td>\n",
       "      <td>70199</td>\n",
       "    </tr>\n",
       "    <tr>\n",
       "      <th>156</th>\n",
       "      <td>145</td>\n",
       "      <td>SurveyMonkey</td>\n",
       "      <td>Ottawa, ON</td>\n",
       "      <td>None</td>\n",
       "      <td>Director, Product Design for Market Research</td>\n",
       "      <td>70199</td>\n",
       "    </tr>\n",
       "    <tr>\n",
       "      <th>157</th>\n",
       "      <td>146</td>\n",
       "      <td>Deloitte</td>\n",
       "      <td>Toronto, ON</td>\n",
       "      <td>None</td>\n",
       "      <td>Manager - Financial Engineering and Modeling, ...</td>\n",
       "      <td>70199</td>\n",
       "    </tr>\n",
       "    <tr>\n",
       "      <th>158</th>\n",
       "      <td>147</td>\n",
       "      <td>Toronto Hydro</td>\n",
       "      <td>Toronto, ON</td>\n",
       "      <td>None</td>\n",
       "      <td>Capital &amp; Maintenance Program Analyst</td>\n",
       "      <td>70199</td>\n",
       "    </tr>\n",
       "  </tbody>\n",
       "</table>\n",
       "<p>159 rows × 6 columns</p>\n",
       "</div>"
      ],
      "text/plain": [
       "     index                            Company         Location  Salary  \\\n",
       "0        0                   City of Edmonton      Edmonton AB   62774   \n",
       "1        1                   City of Edmonton      Edmonton AB   62774   \n",
       "2        2                   City of Edmonton      Edmonton AB   62774   \n",
       "3        3                   City of Edmonton      Edmonton AB   62774   \n",
       "4        4                   City of Edmonton      Edmonton AB   62774   \n",
       "5        5                   City of Edmonton      Edmonton AB   62774   \n",
       "6        6                   City of Edmonton      Edmonton AB   62774   \n",
       "7        7                   City of Edmonton      Edmonton AB   62774   \n",
       "8        0             SettleMate Consultants       Toronto ON   90000   \n",
       "9        1                              Maple       Toronto ON   90000   \n",
       "10       2                              Maple       Toronto ON   90000   \n",
       "11       0              The Home Depot Canada             None    None   \n",
       "12       1                          MakeSpace          Ontario    None   \n",
       "13       2                        AP Dynamics      Calgary, AB    None   \n",
       "14       3                           Snapchat      Toronto, ON    None   \n",
       "15       4  Toyota Motor Manufacturing Canada    Cambridge, ON    None   \n",
       "16       5          Hollyburn Properties Ltd.             None    None   \n",
       "17       6               Compass Digital Labs  Mississauga, ON    None   \n",
       "18       7        Canada Post - Postes Canada     Hamilton, ON    None   \n",
       "19       8  Toyota Motor Manufacturing Canada    Cambridge, ON    None   \n",
       "20       9                       ACV Auctions      Toronto, ON    None   \n",
       "21      10                             Sonder      Toronto, ON    None   \n",
       "22      11                      Toronto Hydro      Toronto, ON    None   \n",
       "23      12                       ACV Auctions      Toronto, ON    None   \n",
       "24      13  Toyota Motor Manufacturing Canada    Cambridge, ON    None   \n",
       "25      14                             Sonder      Toronto, ON    None   \n",
       "26      15                         Scotiabank      Toronto, ON    None   \n",
       "27      16                      Toronto Hydro      Toronto, ON    None   \n",
       "28      17                             ecobee      Toronto, ON    None   \n",
       "29      18                       ACV Auctions      Toronto, ON    None   \n",
       "..     ...                                ...              ...     ...   \n",
       "129    118                           Deloitte      Toronto, ON    None   \n",
       "130    119                      Toronto Hydro      Toronto, ON    None   \n",
       "131    120          Hollyburn Properties Ltd.             None    None   \n",
       "132    121  Toyota Motor Manufacturing Canada    Cambridge, ON    None   \n",
       "133    122                       ACV Auctions      Toronto, ON    None   \n",
       "134    123                             Sonder      Toronto, ON    None   \n",
       "135    124                      Toronto Hydro      Toronto, ON    None   \n",
       "136    125                       ACV Auctions      Toronto, ON    None   \n",
       "137    126                         Scotiabank      Toronto, ON    None   \n",
       "138    127                             ecobee      Toronto, ON    None   \n",
       "139    128                           Deloitte      Toronto, ON    None   \n",
       "140    129          Dundas Data Visualization           Canada    None   \n",
       "141    130                            CGI Inc     Montréal, QC    None   \n",
       "142    131                       SurveyMonkey       Ottawa, ON    None   \n",
       "143    132                      Toronto Hydro      Toronto, ON    None   \n",
       "144    133                           Deloitte      Toronto, ON    None   \n",
       "145    134  Toyota Motor Manufacturing Canada    Cambridge, ON    None   \n",
       "146    135          Hollyburn Properties Ltd.             None    None   \n",
       "147    136                       ACV Auctions      Toronto, ON    None   \n",
       "148    137                             Sonder      Toronto, ON    None   \n",
       "149    138                      Toronto Hydro      Toronto, ON    None   \n",
       "150    139                         Scotiabank      Toronto, ON    None   \n",
       "151    140                       ACV Auctions      Toronto, ON    None   \n",
       "152    141                           Deloitte      Toronto, ON    None   \n",
       "153    142          Dundas Data Visualization           Canada    None   \n",
       "154    143                             ecobee      Toronto, ON    None   \n",
       "155    144                            CGI Inc     Montréal, QC    None   \n",
       "156    145                       SurveyMonkey       Ottawa, ON    None   \n",
       "157    146                           Deloitte      Toronto, ON    None   \n",
       "158    147                      Toronto Hydro      Toronto, ON    None   \n",
       "\n",
       "                                                 Title  Salary  \n",
       "0    Engineering Work Experience Student (Operation...   62774  \n",
       "1    Engineering Work Experience Student (Operation...   62774  \n",
       "2    Engineering Work Experience Student (Operation...   62774  \n",
       "3    Engineering Work Experience Student (Operation...   62774  \n",
       "4    Engineering Work Experience Student (Operation...   62774  \n",
       "5    Engineering Work Experience Student (Operation...   62774  \n",
       "6    Engineering Work Experience Student (Operation...   62774  \n",
       "7    Engineering Work Experience Student (Operation...   62774  \n",
       "8                 Azure Synapse Analytics (DW Engineer   90000  \n",
       "9                                   Analytics Engineer   90000  \n",
       "10                                  Analytics Engineer   90000  \n",
       "11   Production Planning Analyst - Calgary (6 Month...   70199  \n",
       "12                                  Analytics Engineer   70199  \n",
       "13                    Field Vibration Analyst/Engineer   70199  \n",
       "14               Senior Business Intelligence Engineer   70199  \n",
       "15                   Engineering Analyst - South Paint   70199  \n",
       "16                           Energy Analyst (Contract)   70199  \n",
       "17                              BI Engineer (Contract)   70199  \n",
       "18             Analyst, Process Engineering - Hamilton   70199  \n",
       "19   Engineering Analyst, Customer Satisfaction - Q...   70199  \n",
       "20                              Sr. Analytics Engineer   70199  \n",
       "21                                         BI Engineer   70199  \n",
       "22     Contract, Capital & Maintenance Program Analyst   70199  \n",
       "23                              Sr. Analytics Engineer   70199  \n",
       "24   Engineering Analyst, Customer Satisfaction - Q...   70199  \n",
       "25                                         BI Engineer   70199  \n",
       "26   Platform Engineer (Oracle Business Intelligenc...   70199  \n",
       "27     Contract, Capital & Maintenance Program Analyst   70199  \n",
       "28                                  Senior BI Engineer   70199  \n",
       "29                             Analytics Engineer, III   70199  \n",
       "..                                                 ...     ...  \n",
       "129  Manager - Financial Engineering and Modeling, ...   70199  \n",
       "130              Capital & Maintenance Program Analyst   70199  \n",
       "131                          Energy Analyst (Contract)   70199  \n",
       "132  Engineering Analyst, Customer Satisfaction - Q...   70199  \n",
       "133                             Sr. Analytics Engineer   70199  \n",
       "134                                        BI Engineer   70199  \n",
       "135    Contract, Capital & Maintenance Program Analyst   70199  \n",
       "136                            Analytics Engineer, III   70199  \n",
       "137  Platform Engineer (Oracle Business Intelligenc...   70199  \n",
       "138                                 Senior BI Engineer   70199  \n",
       "139  Analyst/Senior Associate - Financial Engineeri...   70199  \n",
       "140            BI Solution Engineer - Customer Success   70199  \n",
       "141                      Ingénieur de données Azure/BI   70199  \n",
       "142       Director, Product Design for Market Research   70199  \n",
       "143              Capital & Maintenance Program Analyst   70199  \n",
       "144  Manager - Financial Engineering and Modeling, ...   70199  \n",
       "145  Engineering Analyst, Customer Satisfaction - Q...   70199  \n",
       "146                          Energy Analyst (Contract)   70199  \n",
       "147                             Sr. Analytics Engineer   70199  \n",
       "148                                        BI Engineer   70199  \n",
       "149    Contract, Capital & Maintenance Program Analyst   70199  \n",
       "150  Platform Engineer (Oracle Business Intelligenc...   70199  \n",
       "151                            Analytics Engineer, III   70199  \n",
       "152  Analyst/Senior Associate - Financial Engineeri...   70199  \n",
       "153            BI Solution Engineer - Customer Success   70199  \n",
       "154                                 Senior BI Engineer   70199  \n",
       "155                      Ingénieur de données Azure/BI   70199  \n",
       "156       Director, Product Design for Market Research   70199  \n",
       "157  Manager - Financial Engineering and Modeling, ...   70199  \n",
       "158              Capital & Maintenance Program Analyst   70199  \n",
       "\n",
       "[159 rows x 6 columns]"
      ]
     },
     "execution_count": 25,
     "metadata": {},
     "output_type": "execute_result"
    }
   ],
   "source": [
    "data5c = pd.concat([data_sal_all_1, data5ba], axis=1)\n",
    "data5c.reset_index()"
   ]
  },
  {
   "cell_type": "markdown",
   "metadata": {},
   "source": [
    "Now we have two Salary columns in our dataframe, so we rename the old one to Salary_1 and drop it."
   ]
  },
  {
   "cell_type": "code",
   "execution_count": 26,
   "metadata": {},
   "outputs": [
    {
     "data": {
      "text/html": [
       "<div>\n",
       "<style scoped>\n",
       "    .dataframe tbody tr th:only-of-type {\n",
       "        vertical-align: middle;\n",
       "    }\n",
       "\n",
       "    .dataframe tbody tr th {\n",
       "        vertical-align: top;\n",
       "    }\n",
       "\n",
       "    .dataframe thead th {\n",
       "        text-align: right;\n",
       "    }\n",
       "</style>\n",
       "<table border=\"1\" class=\"dataframe\">\n",
       "  <thead>\n",
       "    <tr style=\"text-align: right;\">\n",
       "      <th></th>\n",
       "      <th>Company</th>\n",
       "      <th>Location</th>\n",
       "      <th>Title</th>\n",
       "      <th>Salary</th>\n",
       "    </tr>\n",
       "  </thead>\n",
       "  <tbody>\n",
       "    <tr>\n",
       "      <th>0</th>\n",
       "      <td>City of Edmonton</td>\n",
       "      <td>Edmonton AB</td>\n",
       "      <td>Engineering Work Experience Student (Operation...</td>\n",
       "      <td>62774</td>\n",
       "    </tr>\n",
       "    <tr>\n",
       "      <th>1</th>\n",
       "      <td>City of Edmonton</td>\n",
       "      <td>Edmonton AB</td>\n",
       "      <td>Engineering Work Experience Student (Operation...</td>\n",
       "      <td>62774</td>\n",
       "    </tr>\n",
       "    <tr>\n",
       "      <th>2</th>\n",
       "      <td>City of Edmonton</td>\n",
       "      <td>Edmonton AB</td>\n",
       "      <td>Engineering Work Experience Student (Operation...</td>\n",
       "      <td>62774</td>\n",
       "    </tr>\n",
       "    <tr>\n",
       "      <th>3</th>\n",
       "      <td>City of Edmonton</td>\n",
       "      <td>Edmonton AB</td>\n",
       "      <td>Engineering Work Experience Student (Operation...</td>\n",
       "      <td>62774</td>\n",
       "    </tr>\n",
       "    <tr>\n",
       "      <th>4</th>\n",
       "      <td>City of Edmonton</td>\n",
       "      <td>Edmonton AB</td>\n",
       "      <td>Engineering Work Experience Student (Operation...</td>\n",
       "      <td>62774</td>\n",
       "    </tr>\n",
       "  </tbody>\n",
       "</table>\n",
       "</div>"
      ],
      "text/plain": [
       "            Company     Location  \\\n",
       "0  City of Edmonton  Edmonton AB   \n",
       "1  City of Edmonton  Edmonton AB   \n",
       "2  City of Edmonton  Edmonton AB   \n",
       "3  City of Edmonton  Edmonton AB   \n",
       "4  City of Edmonton  Edmonton AB   \n",
       "\n",
       "                                               Title  Salary  \n",
       "0  Engineering Work Experience Student (Operation...   62774  \n",
       "1  Engineering Work Experience Student (Operation...   62774  \n",
       "2  Engineering Work Experience Student (Operation...   62774  \n",
       "3  Engineering Work Experience Student (Operation...   62774  \n",
       "4  Engineering Work Experience Student (Operation...   62774  "
      ]
     },
     "execution_count": 26,
     "metadata": {},
     "output_type": "execute_result"
    }
   ],
   "source": [
    "data5c.columns = ['Company', 'Location', 'Salary_1', 'Title', 'Salary']\n",
    "data5d = data5c.drop(['Salary_1'], axis=1)\n",
    "data5d.head()"
   ]
  },
  {
   "cell_type": "code",
   "execution_count": 27,
   "metadata": {},
   "outputs": [],
   "source": [
    "data5d.to_csv('data/data-'+job_title_us+'-'+str(d2)+'.csv', index=False)"
   ]
  },
  {
   "cell_type": "markdown",
   "metadata": {},
   "source": [
    "Let's procede with the cleanup of our dataset. Let's drop the cells that don't have any location as it won't be useful to us in our analysis."
   ]
  },
  {
   "cell_type": "code",
   "execution_count": 28,
   "metadata": {},
   "outputs": [],
   "source": [
    "data6a = data5d.replace('None',np.nan, regex=True)\n",
    "data6 = data6a[pd.notnull(data5d[\"Location\"])]\n",
    "data6 = data6.reset_index(drop=True)\n",
    "data7 = data6.groupby('Location').count()\n",
    "sort_data = data7.sort_values('Title',ascending=False)"
   ]
  },
  {
   "cell_type": "code",
   "execution_count": 29,
   "metadata": {},
   "outputs": [
    {
     "data": {
      "text/html": [
       "<div>\n",
       "<style scoped>\n",
       "    .dataframe tbody tr th:only-of-type {\n",
       "        vertical-align: middle;\n",
       "    }\n",
       "\n",
       "    .dataframe tbody tr th {\n",
       "        vertical-align: top;\n",
       "    }\n",
       "\n",
       "    .dataframe thead th {\n",
       "        text-align: right;\n",
       "    }\n",
       "</style>\n",
       "<table border=\"1\" class=\"dataframe\">\n",
       "  <thead>\n",
       "    <tr style=\"text-align: right;\">\n",
       "      <th></th>\n",
       "      <th>Company</th>\n",
       "      <th>Title</th>\n",
       "      <th>Salary</th>\n",
       "    </tr>\n",
       "    <tr>\n",
       "      <th>Location</th>\n",
       "      <th></th>\n",
       "      <th></th>\n",
       "      <th></th>\n",
       "    </tr>\n",
       "  </thead>\n",
       "  <tbody>\n",
       "    <tr>\n",
       "      <th>Toronto, ON</th>\n",
       "      <td>87</td>\n",
       "      <td>87</td>\n",
       "      <td>87</td>\n",
       "    </tr>\n",
       "    <tr>\n",
       "      <th>Cambridge, ON</th>\n",
       "      <td>11</td>\n",
       "      <td>11</td>\n",
       "      <td>11</td>\n",
       "    </tr>\n",
       "    <tr>\n",
       "      <th>Canada</th>\n",
       "      <td>10</td>\n",
       "      <td>10</td>\n",
       "      <td>10</td>\n",
       "    </tr>\n",
       "    <tr>\n",
       "      <th>Montréal, QC</th>\n",
       "      <td>10</td>\n",
       "      <td>10</td>\n",
       "      <td>10</td>\n",
       "    </tr>\n",
       "    <tr>\n",
       "      <th>Ottawa, ON</th>\n",
       "      <td>10</td>\n",
       "      <td>10</td>\n",
       "      <td>10</td>\n",
       "    </tr>\n",
       "    <tr>\n",
       "      <th>Edmonton AB</th>\n",
       "      <td>8</td>\n",
       "      <td>8</td>\n",
       "      <td>8</td>\n",
       "    </tr>\n",
       "    <tr>\n",
       "      <th>Toronto ON</th>\n",
       "      <td>3</td>\n",
       "      <td>3</td>\n",
       "      <td>3</td>\n",
       "    </tr>\n",
       "    <tr>\n",
       "      <th>Hamilton, ON</th>\n",
       "      <td>2</td>\n",
       "      <td>2</td>\n",
       "      <td>2</td>\n",
       "    </tr>\n",
       "    <tr>\n",
       "      <th>Mississauga, ON</th>\n",
       "      <td>2</td>\n",
       "      <td>2</td>\n",
       "      <td>2</td>\n",
       "    </tr>\n",
       "    <tr>\n",
       "      <th>Calgary, AB</th>\n",
       "      <td>1</td>\n",
       "      <td>1</td>\n",
       "      <td>1</td>\n",
       "    </tr>\n",
       "  </tbody>\n",
       "</table>\n",
       "</div>"
      ],
      "text/plain": [
       "                 Company  Title  Salary\n",
       "Location                               \n",
       "Toronto, ON           87     87      87\n",
       "Cambridge, ON         11     11      11\n",
       "Canada                10     10      10\n",
       "Montréal, QC          10     10      10\n",
       "Ottawa, ON            10     10      10\n",
       "Edmonton AB            8      8       8\n",
       "Toronto ON             3      3       3\n",
       "Hamilton, ON           2      2       2\n",
       "Mississauga, ON        2      2       2\n",
       "Calgary, AB            1      1       1"
      ]
     },
     "execution_count": 29,
     "metadata": {},
     "output_type": "execute_result"
    }
   ],
   "source": [
    "sort_data.head(10)"
   ]
  },
  {
   "cell_type": "markdown",
   "metadata": {},
   "source": [
    "As we can see above, <b>sort_data</b> has a location <b>Canada</b>. We need to drop that row. Since we made our code flexible by asking the user to input his job title, this field might not show up in other job titles. Hence we need to write the code that will check if this field is there, and if it, drop it, else procede without doing anything."
   ]
  },
  {
   "cell_type": "code",
   "execution_count": 30,
   "metadata": {},
   "outputs": [],
   "source": [
    "sort_data_canada_1 = sort_data.reset_index()\n",
    "sort_data_canada_2 = sort_data_canada_1.iloc[:, 0]\n",
    "sort_data_canada_3 = sort_data_canada_2.isin(['Canada'])"
   ]
  },
  {
   "cell_type": "code",
   "execution_count": 31,
   "metadata": {},
   "outputs": [],
   "source": [
    "if sort_data_canada_3.any() == True:\n",
    "    sort_data_1 = sort_data.drop(['Canada'], axis=0)\n",
    "else:\n",
    "    sort_data_1 = sort_data"
   ]
  },
  {
   "cell_type": "code",
   "execution_count": 32,
   "metadata": {},
   "outputs": [
    {
     "data": {
      "text/html": [
       "<div>\n",
       "<style scoped>\n",
       "    .dataframe tbody tr th:only-of-type {\n",
       "        vertical-align: middle;\n",
       "    }\n",
       "\n",
       "    .dataframe tbody tr th {\n",
       "        vertical-align: top;\n",
       "    }\n",
       "\n",
       "    .dataframe thead th {\n",
       "        text-align: right;\n",
       "    }\n",
       "</style>\n",
       "<table border=\"1\" class=\"dataframe\">\n",
       "  <thead>\n",
       "    <tr style=\"text-align: right;\">\n",
       "      <th></th>\n",
       "      <th>Location</th>\n",
       "      <th>Company</th>\n",
       "      <th>Title</th>\n",
       "      <th>Salary</th>\n",
       "    </tr>\n",
       "  </thead>\n",
       "  <tbody>\n",
       "    <tr>\n",
       "      <th>0</th>\n",
       "      <td>Toronto, ON</td>\n",
       "      <td>87</td>\n",
       "      <td>87</td>\n",
       "      <td>87</td>\n",
       "    </tr>\n",
       "    <tr>\n",
       "      <th>1</th>\n",
       "      <td>Cambridge, ON</td>\n",
       "      <td>11</td>\n",
       "      <td>11</td>\n",
       "      <td>11</td>\n",
       "    </tr>\n",
       "    <tr>\n",
       "      <th>2</th>\n",
       "      <td>Montréal, QC</td>\n",
       "      <td>10</td>\n",
       "      <td>10</td>\n",
       "      <td>10</td>\n",
       "    </tr>\n",
       "    <tr>\n",
       "      <th>3</th>\n",
       "      <td>Ottawa, ON</td>\n",
       "      <td>10</td>\n",
       "      <td>10</td>\n",
       "      <td>10</td>\n",
       "    </tr>\n",
       "    <tr>\n",
       "      <th>4</th>\n",
       "      <td>Edmonton AB</td>\n",
       "      <td>8</td>\n",
       "      <td>8</td>\n",
       "      <td>8</td>\n",
       "    </tr>\n",
       "  </tbody>\n",
       "</table>\n",
       "</div>"
      ],
      "text/plain": [
       "        Location  Company  Title  Salary\n",
       "0    Toronto, ON       87     87      87\n",
       "1  Cambridge, ON       11     11      11\n",
       "2   Montréal, QC       10     10      10\n",
       "3     Ottawa, ON       10     10      10\n",
       "4    Edmonton AB        8      8       8"
      ]
     },
     "execution_count": 32,
     "metadata": {},
     "output_type": "execute_result"
    }
   ],
   "source": [
    "sort_data_2 = sort_data_1.reset_index()\n",
    "sort_data_2.head()"
   ]
  },
  {
   "cell_type": "markdown",
   "metadata": {},
   "source": [
    "Now let's split the location into <b>City</b> and <b>Provience</b>"
   ]
  },
  {
   "cell_type": "code",
   "execution_count": 33,
   "metadata": {},
   "outputs": [
    {
     "data": {
      "text/html": [
       "<div>\n",
       "<style scoped>\n",
       "    .dataframe tbody tr th:only-of-type {\n",
       "        vertical-align: middle;\n",
       "    }\n",
       "\n",
       "    .dataframe tbody tr th {\n",
       "        vertical-align: top;\n",
       "    }\n",
       "\n",
       "    .dataframe thead th {\n",
       "        text-align: right;\n",
       "    }\n",
       "</style>\n",
       "<table border=\"1\" class=\"dataframe\">\n",
       "  <thead>\n",
       "    <tr style=\"text-align: right;\">\n",
       "      <th></th>\n",
       "      <th>City</th>\n",
       "      <th>Provience</th>\n",
       "    </tr>\n",
       "  </thead>\n",
       "  <tbody>\n",
       "    <tr>\n",
       "      <th>0</th>\n",
       "      <td>Toronto</td>\n",
       "      <td>ON</td>\n",
       "    </tr>\n",
       "    <tr>\n",
       "      <th>1</th>\n",
       "      <td>Cambridge</td>\n",
       "      <td>ON</td>\n",
       "    </tr>\n",
       "    <tr>\n",
       "      <th>2</th>\n",
       "      <td>Montréal</td>\n",
       "      <td>QC</td>\n",
       "    </tr>\n",
       "    <tr>\n",
       "      <th>3</th>\n",
       "      <td>Ottawa</td>\n",
       "      <td>ON</td>\n",
       "    </tr>\n",
       "    <tr>\n",
       "      <th>4</th>\n",
       "      <td>Edmonton AB</td>\n",
       "      <td>None</td>\n",
       "    </tr>\n",
       "  </tbody>\n",
       "</table>\n",
       "</div>"
      ],
      "text/plain": [
       "          City Provience\n",
       "0      Toronto        ON\n",
       "1    Cambridge        ON\n",
       "2     Montréal        QC\n",
       "3       Ottawa        ON\n",
       "4  Edmonton AB      None"
      ]
     },
     "execution_count": 33,
     "metadata": {},
     "output_type": "execute_result"
    }
   ],
   "source": [
    "data1 = sort_data_2['Location'].str.split(',', expand=True)\n",
    "data1.columns = ['City', 'Provience']\n",
    "data1.head()"
   ]
  },
  {
   "cell_type": "markdown",
   "metadata": {},
   "source": [
    "Now let's merge this new data with the previous data and drop the column <b>Location</b>"
   ]
  },
  {
   "cell_type": "code",
   "execution_count": 34,
   "metadata": {},
   "outputs": [
    {
     "data": {
      "text/html": [
       "<div>\n",
       "<style scoped>\n",
       "    .dataframe tbody tr th:only-of-type {\n",
       "        vertical-align: middle;\n",
       "    }\n",
       "\n",
       "    .dataframe tbody tr th {\n",
       "        vertical-align: top;\n",
       "    }\n",
       "\n",
       "    .dataframe thead th {\n",
       "        text-align: right;\n",
       "    }\n",
       "</style>\n",
       "<table border=\"1\" class=\"dataframe\">\n",
       "  <thead>\n",
       "    <tr style=\"text-align: right;\">\n",
       "      <th></th>\n",
       "      <th>City</th>\n",
       "      <th>Provience</th>\n",
       "      <th>Company</th>\n",
       "      <th>Title</th>\n",
       "      <th>Salary</th>\n",
       "    </tr>\n",
       "  </thead>\n",
       "  <tbody>\n",
       "    <tr>\n",
       "      <th>0</th>\n",
       "      <td>Toronto</td>\n",
       "      <td>ON</td>\n",
       "      <td>87</td>\n",
       "      <td>87</td>\n",
       "      <td>87</td>\n",
       "    </tr>\n",
       "    <tr>\n",
       "      <th>1</th>\n",
       "      <td>Cambridge</td>\n",
       "      <td>ON</td>\n",
       "      <td>11</td>\n",
       "      <td>11</td>\n",
       "      <td>11</td>\n",
       "    </tr>\n",
       "    <tr>\n",
       "      <th>2</th>\n",
       "      <td>Montréal</td>\n",
       "      <td>QC</td>\n",
       "      <td>10</td>\n",
       "      <td>10</td>\n",
       "      <td>10</td>\n",
       "    </tr>\n",
       "    <tr>\n",
       "      <th>3</th>\n",
       "      <td>Ottawa</td>\n",
       "      <td>ON</td>\n",
       "      <td>10</td>\n",
       "      <td>10</td>\n",
       "      <td>10</td>\n",
       "    </tr>\n",
       "    <tr>\n",
       "      <th>4</th>\n",
       "      <td>Edmonton AB</td>\n",
       "      <td>None</td>\n",
       "      <td>8</td>\n",
       "      <td>8</td>\n",
       "      <td>8</td>\n",
       "    </tr>\n",
       "  </tbody>\n",
       "</table>\n",
       "</div>"
      ],
      "text/plain": [
       "          City Provience  Company  Title  Salary\n",
       "0      Toronto        ON       87     87      87\n",
       "1    Cambridge        ON       11     11      11\n",
       "2     Montréal        QC       10     10      10\n",
       "3       Ottawa        ON       10     10      10\n",
       "4  Edmonton AB      None        8      8       8"
      ]
     },
     "execution_count": 34,
     "metadata": {},
     "output_type": "execute_result"
    }
   ],
   "source": [
    "data2 = pd.concat([data1, sort_data_2], axis=1, sort=False)\n",
    "data3 = data2.drop(['Location'], axis=1)\n",
    "data3.head()"
   ]
  },
  {
   "cell_type": "markdown",
   "metadata": {},
   "source": [
    "Let's see which <b>Provience</b> has the maximum number of jobs."
   ]
  },
  {
   "cell_type": "code",
   "execution_count": 35,
   "metadata": {},
   "outputs": [
    {
     "data": {
      "text/html": [
       "<div>\n",
       "<style scoped>\n",
       "    .dataframe tbody tr th:only-of-type {\n",
       "        vertical-align: middle;\n",
       "    }\n",
       "\n",
       "    .dataframe tbody tr th {\n",
       "        vertical-align: top;\n",
       "    }\n",
       "\n",
       "    .dataframe thead th {\n",
       "        text-align: right;\n",
       "    }\n",
       "</style>\n",
       "<table border=\"1\" class=\"dataframe\">\n",
       "  <thead>\n",
       "    <tr style=\"text-align: right;\">\n",
       "      <th></th>\n",
       "      <th>Provience</th>\n",
       "      <th>Total</th>\n",
       "    </tr>\n",
       "  </thead>\n",
       "  <tbody>\n",
       "    <tr>\n",
       "      <th>0</th>\n",
       "      <td>AB</td>\n",
       "      <td>1</td>\n",
       "    </tr>\n",
       "    <tr>\n",
       "      <th>1</th>\n",
       "      <td>ON</td>\n",
       "      <td>112</td>\n",
       "    </tr>\n",
       "    <tr>\n",
       "      <th>2</th>\n",
       "      <td>QC</td>\n",
       "      <td>10</td>\n",
       "    </tr>\n",
       "  </tbody>\n",
       "</table>\n",
       "</div>"
      ],
      "text/plain": [
       "  Provience  Total\n",
       "0        AB      1\n",
       "1        ON    112\n",
       "2        QC     10"
      ]
     },
     "execution_count": 35,
     "metadata": {},
     "output_type": "execute_result"
    }
   ],
   "source": [
    "data4 = data3.groupby('Provience')['Title'].apply(lambda x: ', '.join(x.astype(str))).reset_index()\n",
    "data5 = data4['Title'].str.split(',', expand=True)\n",
    "data5.iloc[:, :] = data5.iloc[:, :].astype(float)\n",
    "data5['Total'] = data5.sum(axis=1).astype(int)\n",
    "data8 = data5.loc[:, 'Total']\n",
    "data9 = data4.loc[:, 'Provience']\n",
    "data10 = pd.concat([data9, data8], axis=1, sort=True)\n",
    "data10"
   ]
  },
  {
   "cell_type": "markdown",
   "metadata": {},
   "source": [
    "Let's sort the dataframe by which <b>City</b> has the maximum number of jobs and arrange it in ascending order."
   ]
  },
  {
   "cell_type": "code",
   "execution_count": 36,
   "metadata": {},
   "outputs": [
    {
     "data": {
      "text/plain": [
       "Location\n",
       "Calgary, AB         1\n",
       "Ontario             1\n",
       "Hamilton, ON        2\n",
       "Mississauga, ON     2\n",
       "Toronto ON          3\n",
       "Edmonton AB         8\n",
       "Montréal, QC       10\n",
       "Ottawa, ON         10\n",
       "Cambridge, ON      11\n",
       "Toronto, ON        87\n",
       "Name: Title, dtype: int64"
      ]
     },
     "execution_count": 36,
     "metadata": {},
     "output_type": "execute_result"
    }
   ],
   "source": [
    "data11 = sort_data_1\n",
    "data11.sort_values(by='Title', ascending=True, inplace=True)\n",
    "data12 = data11.loc[:, 'Title']\n",
    "data13 = data12.tail(15)\n",
    "data13"
   ]
  },
  {
   "cell_type": "markdown",
   "metadata": {},
   "source": [
    "Now let's make sure we don't have any duplicated in our dataframe"
   ]
  },
  {
   "cell_type": "code",
   "execution_count": 37,
   "metadata": {
    "scrolled": true
   },
   "outputs": [
    {
     "data": {
      "text/html": [
       "<div>\n",
       "<style scoped>\n",
       "    .dataframe tbody tr th:only-of-type {\n",
       "        vertical-align: middle;\n",
       "    }\n",
       "\n",
       "    .dataframe tbody tr th {\n",
       "        vertical-align: top;\n",
       "    }\n",
       "\n",
       "    .dataframe thead th {\n",
       "        text-align: right;\n",
       "    }\n",
       "</style>\n",
       "<table border=\"1\" class=\"dataframe\">\n",
       "  <thead>\n",
       "    <tr style=\"text-align: right;\">\n",
       "      <th></th>\n",
       "      <th>Company</th>\n",
       "      <th>Location</th>\n",
       "      <th>Title</th>\n",
       "      <th>Salary</th>\n",
       "    </tr>\n",
       "  </thead>\n",
       "  <tbody>\n",
       "    <tr>\n",
       "      <th>0</th>\n",
       "      <td>SettleMate Consultants</td>\n",
       "      <td>Toronto ON</td>\n",
       "      <td>Azure Synapse Analytics (DW Engineer</td>\n",
       "      <td>90000</td>\n",
       "    </tr>\n",
       "    <tr>\n",
       "      <th>1</th>\n",
       "      <td>MakeSpace</td>\n",
       "      <td>Ontario</td>\n",
       "      <td>Analytics Engineer</td>\n",
       "      <td>70199</td>\n",
       "    </tr>\n",
       "    <tr>\n",
       "      <th>2</th>\n",
       "      <td>AP Dynamics</td>\n",
       "      <td>Calgary, AB</td>\n",
       "      <td>Field Vibration Analyst/Engineer</td>\n",
       "      <td>70199</td>\n",
       "    </tr>\n",
       "    <tr>\n",
       "      <th>3</th>\n",
       "      <td>Snapchat</td>\n",
       "      <td>Toronto, ON</td>\n",
       "      <td>Senior Business Intelligence Engineer</td>\n",
       "      <td>70199</td>\n",
       "    </tr>\n",
       "  </tbody>\n",
       "</table>\n",
       "</div>"
      ],
      "text/plain": [
       "                  Company     Location                                  Title  \\\n",
       "0  SettleMate Consultants   Toronto ON   Azure Synapse Analytics (DW Engineer   \n",
       "1               MakeSpace      Ontario                     Analytics Engineer   \n",
       "2             AP Dynamics  Calgary, AB       Field Vibration Analyst/Engineer   \n",
       "3                Snapchat  Toronto, ON  Senior Business Intelligence Engineer   \n",
       "\n",
       "   Salary  \n",
       "0   90000  \n",
       "1   70199  \n",
       "2   70199  \n",
       "3   70199  "
      ]
     },
     "execution_count": 37,
     "metadata": {},
     "output_type": "execute_result"
    }
   ],
   "source": [
    "data5d.drop_duplicates(keep=False,inplace=True)\n",
    "data5d.head()"
   ]
  },
  {
   "cell_type": "markdown",
   "metadata": {},
   "source": [
    "As we can see, many job titles have the same salary listed. For our last step, data visualization, we don’t need same salaries for different job titles, we just need one. So we group them by salary and then sort them in ascending order."
   ]
  },
  {
   "cell_type": "code",
   "execution_count": 38,
   "metadata": {},
   "outputs": [],
   "source": [
    "data5e = data5d.groupby('Salary')['Company'].apply(' '.join).reset_index()\n",
    "data5e.sort_values(by='Salary', ascending=True, inplace=True)"
   ]
  },
  {
   "cell_type": "code",
   "execution_count": 39,
   "metadata": {},
   "outputs": [
    {
     "data": {
      "text/plain": [
       "0    70199\n",
       "1    90000\n",
       "Name: Salary, dtype: int64"
      ]
     },
     "execution_count": 39,
     "metadata": {},
     "output_type": "execute_result"
    }
   ],
   "source": [
    "data_sal_all_1 = data5e.loc[:,'Salary']\n",
    "data_sal_all_2 = data_sal_all_1.tail(15)\n",
    "data_sal_all_2"
   ]
  },
  {
   "cell_type": "markdown",
   "metadata": {},
   "source": [
    "Now, let's plot which city has the maximum number of jobs."
   ]
  },
  {
   "cell_type": "code",
   "execution_count": 40,
   "metadata": {},
   "outputs": [
    {
     "data": {
      "image/png": "[encoded data removed]",
      "text/plain": [
       "<Figure size 864x864 with 1 Axes>"
      ]
     },
     "metadata": {
      "needs_background": "light"
     },
     "output_type": "display_data"
    }
   ],
   "source": [
    "data13.plot(kind='barh', figsize=(12, 12), color='steelblue')\n",
    "plt.xlabel('Number of jobs')\n",
    "plt.title(job_title_1+' jobs in Canada '+str(d2))\n",
    "\n",
    "for index, value in enumerate(data13): \n",
    "    label = format(int(value), ',')\n",
    "    \n",
    "    plt.annotate(label, xy=(value - 2, index - 0.10), color='white')\n",
    "plt.savefig('images/'+job_title_us+'_jobs_in_Canada-'+str(d2))\n",
    "plt.show()"
   ]
  },
  {
   "cell_type": "markdown",
   "metadata": {},
   "source": [
    "Let's plot the salary range as well."
   ]
  },
  {
   "cell_type": "markdown",
   "metadata": {},
   "source": [
    "data_sal_all_2.plot(kind='barh', figsize=(15, 15), color='grey')\n",
    "plt.xlabel('Salary')\n",
    "plt.title(job_title_1+' salary in Canada '+str(d2))\n",
    "\n",
    "for index, value in enumerate(data_sal_all_2): \n",
    "    label = format(int(value), ',') # format int with commas\n",
    "    \n",
    "    plt.annotate(label, xy=(value - 12000, index - 0.10), color='white')\n",
    "plt.savefig('images/'+job_title_us+'_salary_in_Canada-'+str(d2))\n",
    "plt.show()"
   ]
  },
  {
   "cell_type": "code",
   "execution_count": null,
   "metadata": {},
   "outputs": [],
   "source": []
  }
 ],
 "metadata": {
  "kernelspec": {
   "display_name": "Python 3",
   "language": "python",
   "name": "python3"
  },
  "language_info": {
   "codemirror_mode": {
    "name": "ipython",
    "version": 3
   },
   "file_extension": ".py",
   "mimetype": "text/x-python",
   "name": "python",
   "nbconvert_exporter": "python",
   "pygments_lexer": "ipython3",
   "version": "3.7.3"
  }
 },
 "nbformat": 4,
 "nbformat_minor": 2
}
