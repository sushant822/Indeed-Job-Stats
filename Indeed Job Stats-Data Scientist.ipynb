{
 "cells": [
  {
   "cell_type": "markdown",
   "metadata": {},
   "source": [
    "# <center> Program to analyze and find salary of a job profile</center>\n",
    "### <center>by Sushant Deshpande</center>\n",
    "\n",
    "I wrote this program so that it can scrape and analyze several jobs listed on Indeed.com or Indeed.ca in this case since I am in Canada and find the average salary of jobs. In addition to this, it also tells us which city in Canada has the maximum number of jobs and maximum salary. I have plotted all this using bar graph to make it visually easy to understand."
   ]
  },
  {
   "cell_type": "markdown",
   "metadata": {},
   "source": [
    " Let's start by asking the user which job title he wants search for. First, we create a variable called <b> *job_title_1*</b> and store the user input in it"
   ]
  },
  {
   "cell_type": "code",
   "execution_count": 1,
   "metadata": {},
   "outputs": [],
   "source": [
    "#job_title_1 = input(\"Enter the Job Title: \")\n",
    "job_title_1 = \"Data Scientist\""
   ]
  },
  {
   "cell_type": "markdown",
   "metadata": {},
   "source": [
    "#### Now let's import the required libries"
   ]
  },
  {
   "cell_type": "code",
   "execution_count": 2,
   "metadata": {},
   "outputs": [
    {
     "name": "stdout",
     "output_type": "stream",
     "text": [
      "Libraries imported.\n"
     ]
    }
   ],
   "source": [
    "from bs4 import BeautifulSoup\n",
    "import requests\n",
    "import matplotlib.pyplot as plt\n",
    "from urllib.request import urlopen\n",
    "%matplotlib inline\n",
    "import numpy as np\n",
    "import pandas as pd\n",
    "import matplotlib.cm as cm\n",
    "import matplotlib.colors as colors\n",
    "import time\n",
    "print('Libraries imported.')"
   ]
  },
  {
   "cell_type": "markdown",
   "metadata": {},
   "source": [
    "The way Indeed works is it takes the given user input, converts it to lower case and replaces the spaces with +. So we need to do the same.\n",
    "\n",
    "Let's convert the job title to lower case using <b>.lower()</b> method.\n",
    "\n",
    "Then, let's replace the spaces with + using <b>.repalce()</b> method.\n",
    "\n",
    "And then let's see how the output looks, <b>job_title_3</b> in this case."
   ]
  },
  {
   "cell_type": "code",
   "execution_count": 3,
   "metadata": {},
   "outputs": [
    {
     "data": {
      "text/plain": [
       "'data+scientist'"
      ]
     },
     "execution_count": 3,
     "metadata": {},
     "output_type": "execute_result"
    }
   ],
   "source": [
    "job_title_2 = job_title_1.lower() # convert to lower case\n",
    "job_title_3 = job_title_2.replace(' ', '+') # replace space with +\n",
    "job_title_3"
   ]
  },
  {
   "cell_type": "markdown",
   "metadata": {},
   "source": [
    "In our case, since we are searching for <b>Data Scientist</b> the output looks good, <b>*data+scientist*</b>"
   ]
  },
  {
   "cell_type": "markdown",
   "metadata": {},
   "source": [
    "Now let's write the code that can scrape Indeed.ca with our <b>*job_title_3*</b>\n",
    "\n",
    "Here we insert job_title_3 into our url using concatenate feature in python"
   ]
  },
  {
   "cell_type": "code",
   "execution_count": 4,
   "metadata": {},
   "outputs": [],
   "source": [
    "from datetime import date\n",
    "today = date.today()"
   ]
  },
  {
   "cell_type": "code",
   "execution_count": 5,
   "metadata": {},
   "outputs": [
    {
     "data": {
      "text/plain": [
       "'21-April-2021'"
      ]
     },
     "execution_count": 5,
     "metadata": {},
     "output_type": "execute_result"
    }
   ],
   "source": [
    "# Textual month, day and year\n",
    "d2 = today.strftime(\"%d-%B-%Y\")\n",
    "d2"
   ]
  },
  {
   "cell_type": "code",
   "execution_count": 6,
   "metadata": {},
   "outputs": [
    {
     "data": {
      "text/plain": [
       "'data_scientist'"
      ]
     },
     "execution_count": 6,
     "metadata": {},
     "output_type": "execute_result"
    }
   ],
   "source": [
    "job_title_lower = job_title_1.lower() # convert to lower case\n",
    "job_title_us = job_title_2.replace(' ', '_') # replace space with +\n",
    "job_title_us"
   ]
  },
  {
   "cell_type": "code",
   "execution_count": 7,
   "metadata": {},
   "outputs": [],
   "source": [
    "url = 'https://www.indeed.ca/jobs?q='+job_title_3+'&l=canada'\n",
    "page = requests.get(url)\n",
    "soup = BeautifulSoup(page.text, \"html.parser\")\n",
    "#print(soup.prettify())"
   ]
  },
  {
   "cell_type": "markdown",
   "metadata": {},
   "source": [
    "Let's check the url that we just parsed, just to be sure."
   ]
  },
  {
   "cell_type": "code",
   "execution_count": 8,
   "metadata": {},
   "outputs": [
    {
     "data": {
      "text/plain": [
       "'https://www.indeed.ca/jobs?q=data+scientist&l=canada'"
      ]
     },
     "execution_count": 8,
     "metadata": {},
     "output_type": "execute_result"
    }
   ],
   "source": [
    "url"
   ]
  },
  {
   "cell_type": "markdown",
   "metadata": {},
   "source": [
    "Now that we have the the url, let's write a function that will parse the url, extract the data and store it in a dataframe.\n",
    "\n",
    "In order to get a proper data set, we need to parse more than one page. So let's write the code to parse first 10 pages and store them in the same dataframe using <b>pd.concat</b> function."
   ]
  },
  {
   "cell_type": "code",
   "execution_count": 9,
   "metadata": {},
   "outputs": [],
   "source": [
    "sleep_timer = 10"
   ]
  },
  {
   "cell_type": "code",
   "execution_count": 10,
   "metadata": {
    "scrolled": true
   },
   "outputs": [
    {
     "data": {
      "text/html": [
       "<div>\n",
       "<style scoped>\n",
       "    .dataframe tbody tr th:only-of-type {\n",
       "        vertical-align: middle;\n",
       "    }\n",
       "\n",
       "    .dataframe tbody tr th {\n",
       "        vertical-align: top;\n",
       "    }\n",
       "\n",
       "    .dataframe thead th {\n",
       "        text-align: right;\n",
       "    }\n",
       "</style>\n",
       "<table border=\"1\" class=\"dataframe\">\n",
       "  <thead>\n",
       "    <tr style=\"text-align: right;\">\n",
       "      <th></th>\n",
       "      <th>Title</th>\n",
       "      <th>Location</th>\n",
       "      <th>Company</th>\n",
       "      <th>Salary</th>\n",
       "    </tr>\n",
       "  </thead>\n",
       "  <tbody>\n",
       "    <tr>\n",
       "      <th>0</th>\n",
       "      <td>Data Scientist</td>\n",
       "      <td>None</td>\n",
       "      <td>Sécurité XGuard</td>\n",
       "      <td>None</td>\n",
       "    </tr>\n",
       "    <tr>\n",
       "      <th>1</th>\n",
       "      <td>Data Scientist</td>\n",
       "      <td>None</td>\n",
       "      <td>Neelands</td>\n",
       "      <td>None</td>\n",
       "    </tr>\n",
       "    <tr>\n",
       "      <th>2</th>\n",
       "      <td>Optimization Specialist - Data Scientist</td>\n",
       "      <td>None</td>\n",
       "      <td>Myticas Consulting ULC</td>\n",
       "      <td>None</td>\n",
       "    </tr>\n",
       "    <tr>\n",
       "      <th>3</th>\n",
       "      <td>Data Scientist</td>\n",
       "      <td>None</td>\n",
       "      <td>Plus10</td>\n",
       "      <td>$170,000 a year</td>\n",
       "    </tr>\n",
       "    <tr>\n",
       "      <th>4</th>\n",
       "      <td>Data Analytical Specialist/Scientist - 308493</td>\n",
       "      <td>None</td>\n",
       "      <td>Procom</td>\n",
       "      <td>None</td>\n",
       "    </tr>\n",
       "  </tbody>\n",
       "</table>\n",
       "</div>"
      ],
      "text/plain": [
       "                                           Title Location  \\\n",
       "0                                 Data Scientist     None   \n",
       "1                                 Data Scientist     None   \n",
       "2       Optimization Specialist - Data Scientist     None   \n",
       "3                                 Data Scientist     None   \n",
       "4  Data Analytical Specialist/Scientist - 308493     None   \n",
       "\n",
       "                  Company           Salary  \n",
       "0         Sécurité XGuard             None  \n",
       "1                Neelands             None  \n",
       "2  Myticas Consulting ULC             None  \n",
       "3                  Plus10  $170,000 a year  \n",
       "4                  Procom             None  "
      ]
     },
     "execution_count": 10,
     "metadata": {},
     "output_type": "execute_result"
    }
   ],
   "source": [
    "def parse(url):\n",
    "    time.sleep(sleep_timer)\n",
    "    html = requests.get(url)\n",
    "    soup = BeautifulSoup(html.content, 'html.parser', from_encoding=\"utf-8\")\n",
    "    df = pd.DataFrame(columns=[\"Title\",\"Location\",\"Company\",\"Salary\"])\n",
    "    for each in soup.find_all(class_= \"result\" ):\n",
    "        time.sleep(sleep_timer)\n",
    "        try: \n",
    "            title = each.find(class_='jobtitle').text.replace('\\n', '')\n",
    "        except:\n",
    "            title = 'None'\n",
    "        try:\n",
    "            location = each.find('span', {'class':\"location\" }).text.replace('\\n', '')\n",
    "        except:\n",
    "            location = 'None'\n",
    "        try: \n",
    "            company = each.find(class_='company').text.replace('\\n', '')\n",
    "        except:\n",
    "            company = 'None'\n",
    "        try:\n",
    "            salary = each.find('span', {'class':'no-wrap'}).text.replace('\\n', '')\n",
    "        except:\n",
    "            salary = 'None'\n",
    "        #synopsis = each.find('span', {'class':'summary'}).text.replace('\\n', '')\n",
    "        df = df.append({'Title':title, 'Location':location, 'Company':company, 'Salary':salary}, ignore_index=True)\n",
    "    return df\n",
    "df1 = parse(url)\n",
    "url_1 = url + \"&start=20\"\n",
    "url_2 = url + \"&start=40\"\n",
    "url_3 = url + \"&start=60\"\n",
    "url_4 = url + \"&start=80\"\n",
    "url_5 = url + \"&start=100\"\n",
    "url_6 = url + \"&start=120\"\n",
    "url_7 = url + \"&start=140\"\n",
    "url_8 = url + \"&start=160\"\n",
    "url_9 = url + \"&start=180\"\n",
    "url_10 = url + \"&start=200\"\n",
    "\n",
    "df2 = parse(url_1)\n",
    "time.sleep(sleep_timer)\n",
    "df3 = parse(url_2)\n",
    "time.sleep(sleep_timer)\n",
    "df4 = parse(url_3)\n",
    "time.sleep(sleep_timer)\n",
    "df5 = parse(url_4)\n",
    "time.sleep(sleep_timer)\n",
    "df6 = parse(url_5)\n",
    "time.sleep(sleep_timer)\n",
    "df7 = parse(url_6)\n",
    "time.sleep(sleep_timer)\n",
    "df8 = parse(url_7)\n",
    "time.sleep(sleep_timer)\n",
    "df9 = parse(url_8)\n",
    "time.sleep(sleep_timer)\n",
    "df10 = parse(url_9)\n",
    "time.sleep(sleep_timer)\n",
    "df11 = parse(url_10)\n",
    "\n",
    "data1 = pd.concat([df1, df2, df3, df4, df5, df6, df7, df8, df9, df10, df11], axis=0, ignore_index=True)\n",
    "data1.head()"
   ]
  },
  {
   "cell_type": "code",
   "execution_count": 11,
   "metadata": {},
   "outputs": [
    {
     "data": {
      "text/plain": [
       "(165, 4)"
      ]
     },
     "execution_count": 11,
     "metadata": {},
     "output_type": "execute_result"
    }
   ],
   "source": [
    "data1.shape"
   ]
  },
  {
   "cell_type": "code",
   "execution_count": 12,
   "metadata": {},
   "outputs": [],
   "source": [
    "data1.to_csv('data/data-raw-'+job_title_us+'-'+str(d2)+'.csv', index=False)"
   ]
  },
  {
   "cell_type": "markdown",
   "metadata": {},
   "source": [
    "Once we have the dataset, we can see that it has a lot of stuff that we don't need like \\n, $ etc. So let's clean up the data.\n",
    "\n",
    "When we check the data type of data1, we can see that <b>Salary</b> is stored as an object. In addition to that, Salary is defined as per year, per month, per week and per hour. In order for our analysis to work, we need to have salary displayed as per year and the column salary itself should be either <b>*float*</b> or <b>*int*</b>."
   ]
  },
  {
   "cell_type": "code",
   "execution_count": 13,
   "metadata": {},
   "outputs": [
    {
     "data": {
      "text/plain": [
       "Title       object\n",
       "Location    object\n",
       "Company     object\n",
       "Salary      object\n",
       "dtype: object"
      ]
     },
     "execution_count": 13,
     "metadata": {},
     "output_type": "execute_result"
    }
   ],
   "source": [
    "data1.dtypes # here, salary is an object"
   ]
  },
  {
   "cell_type": "code",
   "execution_count": 14,
   "metadata": {},
   "outputs": [],
   "source": [
    "data_sal_year_temp = data1[data1['Salary'].str.contains(' a year')].reset_index(drop=True)\n",
    "data_sal_year_1a = data_sal_year_temp.replace(' a year', '', regex=True) # replace 'a year'\n",
    "data_sal_year_1 = data_sal_year_1a.replace('\\n', '', regex=True) # replace \\n\n",
    "data_sal_year_2 = data_sal_year_1.replace('[\\$,)]', '', regex=True) # replace $\n",
    "data_sal_year_3a = data_sal_year_2['Salary'].str.split('-', expand=True)\n",
    "data_sal_year_3a.iloc[:, :] = data_sal_year_3a.iloc[:, :].astype('float')\n",
    "data_sal_year_3b = data_sal_year_3a.sum(axis=1).astype('float')\n",
    "data_sal_year_3c = (data_sal_year_3b/2)\n",
    "data_sal_year_3 = data_sal_year_3c.astype('int')\n",
    "data_sal_year_5 = pd.concat([data_sal_year_2, data_sal_year_3], axis=1, sort=True)\n",
    "data_sal_year_6 = data_sal_year_5.drop(['Salary'], axis=1)"
   ]
  },
  {
   "cell_type": "markdown",
   "metadata": {},
   "source": [
    "This segment takes the salary per month and converts it to per year"
   ]
  },
  {
   "cell_type": "code",
   "execution_count": 15,
   "metadata": {},
   "outputs": [],
   "source": [
    "data_sal_month_temp = data1[data1['Salary'].str.contains(' a month')].reset_index(drop=True)\n",
    "data_sal_month_1a = data_sal_month_temp.replace(' a month', '', regex=True)\n",
    "data_sal_month_1 = data_sal_month_1a.replace('\\n', '', regex=True)\n",
    "data_sal_month_2 = data_sal_month_1.replace('[\\$,)]', '', regex=True)\n",
    "data_sal_month_3a = data_sal_month_2['Salary'].str.split('-', expand=True)\n",
    "data_sal_month_3a.iloc[:, :] = data_sal_month_3a.iloc[:, :].astype('float')\n",
    "data_sal_month_3b = data_sal_month_3a.sum(axis=1).astype('float')\n",
    "data_sal_month_3c = (data_sal_month_3b/2) * 12\n",
    "data_sal_month_3 = data_sal_month_3c.astype('int')\n",
    "data_sal_month_5 = pd.concat([data_sal_month_2, data_sal_month_3], axis=1, sort=True)\n",
    "data_sal_month_6 = data_sal_month_5.drop(['Salary'], axis=1)"
   ]
  },
  {
   "cell_type": "markdown",
   "metadata": {},
   "source": [
    "This segment takes the salary per week and converts it to per year"
   ]
  },
  {
   "cell_type": "code",
   "execution_count": 16,
   "metadata": {},
   "outputs": [],
   "source": [
    "data_sal_week_temp = data1[data1['Salary'].str.contains(' a week')].reset_index(drop=True)\n",
    "data_sal_week_1a = data_sal_week_temp.replace(' a week', '', regex=True)\n",
    "data_sal_week_1 = data_sal_week_1a.replace('\\n', '', regex=True)\n",
    "data_sal_week_2 = data_sal_week_1.replace('[\\$,)]', '', regex=True)\n",
    "data_sal_week_3a = data_sal_week_2['Salary'].str.split('-', expand=True)\n",
    "data_sal_week_3a.iloc[:, :] = data_sal_week_3a.iloc[:, :].astype('float')\n",
    "data_sal_week_3b = data_sal_week_3a.sum(axis=1).astype('float')\n",
    "data_sal_week_3c = (data_sal_week_3b/2) * 52\n",
    "data_sal_week_3 = data_sal_week_3c.astype('int')\n",
    "data_sal_week_5 = pd.concat([data_sal_week_2, data_sal_week_3], axis=1, sort=True)\n",
    "data_sal_week_6 = data_sal_week_5.drop(['Salary'], axis=1)"
   ]
  },
  {
   "cell_type": "markdown",
   "metadata": {},
   "source": [
    "This segment takes the salary per hour and converts it to per year"
   ]
  },
  {
   "cell_type": "code",
   "execution_count": 17,
   "metadata": {},
   "outputs": [],
   "source": [
    "data_sal_hour_temp = data1[data1['Salary'].str.contains(' an hour')].reset_index(drop=True)\n",
    "data_sal_hour_1a = data_sal_hour_temp.replace(' an hour', '', regex=True)\n",
    "data_sal_hour_1 = data_sal_hour_1a.replace('\\n', '', regex=True)\n",
    "data_sal_hour_2 = data_sal_hour_1.replace('[\\$,)]', '', regex=True)\n",
    "data_sal_hour_3a = data_sal_hour_2['Salary'].str.split('-', expand=True)\n",
    "data_sal_hour_3a.iloc[:, :] = data_sal_hour_3a.iloc[:, :].astype('float')\n",
    "data_sal_hour_3b = data_sal_hour_3a.sum(axis=1).astype('float')\n",
    "data_sal_hour_3c = (data_sal_hour_3b/2) * 40 * 52\n",
    "data_sal_hour_3 = data_sal_hour_3c.astype('int')\n",
    "data_sal_hour_5 = pd.concat([data_sal_hour_2, data_sal_hour_3], axis=1, sort=True)\n",
    "data_sal_hour_6 = data_sal_hour_5.drop(['Salary'], axis=1)"
   ]
  },
  {
   "cell_type": "markdown",
   "metadata": {},
   "source": [
    "Let's sort the rows that don't have any salary mentioned and save them in <b>data_sal_none_temp</b>"
   ]
  },
  {
   "cell_type": "code",
   "execution_count": 18,
   "metadata": {},
   "outputs": [
    {
     "data": {
      "text/html": [
       "<div>\n",
       "<style scoped>\n",
       "    .dataframe tbody tr th:only-of-type {\n",
       "        vertical-align: middle;\n",
       "    }\n",
       "\n",
       "    .dataframe tbody tr th {\n",
       "        vertical-align: top;\n",
       "    }\n",
       "\n",
       "    .dataframe thead th {\n",
       "        text-align: right;\n",
       "    }\n",
       "</style>\n",
       "<table border=\"1\" class=\"dataframe\">\n",
       "  <thead>\n",
       "    <tr style=\"text-align: right;\">\n",
       "      <th></th>\n",
       "      <th>Title</th>\n",
       "      <th>Location</th>\n",
       "      <th>Company</th>\n",
       "      <th>Salary</th>\n",
       "    </tr>\n",
       "  </thead>\n",
       "  <tbody>\n",
       "    <tr>\n",
       "      <th>0</th>\n",
       "      <td>Data Scientist</td>\n",
       "      <td>None</td>\n",
       "      <td>Sécurité XGuard</td>\n",
       "      <td>None</td>\n",
       "    </tr>\n",
       "    <tr>\n",
       "      <th>1</th>\n",
       "      <td>Data Scientist</td>\n",
       "      <td>None</td>\n",
       "      <td>Neelands</td>\n",
       "      <td>None</td>\n",
       "    </tr>\n",
       "    <tr>\n",
       "      <th>2</th>\n",
       "      <td>Optimization Specialist - Data Scientist</td>\n",
       "      <td>None</td>\n",
       "      <td>Myticas Consulting ULC</td>\n",
       "      <td>None</td>\n",
       "    </tr>\n",
       "    <tr>\n",
       "      <th>3</th>\n",
       "      <td>Data Analytical Specialist/Scientist - 308493</td>\n",
       "      <td>None</td>\n",
       "      <td>Procom</td>\n",
       "      <td>None</td>\n",
       "    </tr>\n",
       "    <tr>\n",
       "      <th>4</th>\n",
       "      <td>Data Scientist</td>\n",
       "      <td>Toronto, ON</td>\n",
       "      <td>Loopio</td>\n",
       "      <td>None</td>\n",
       "    </tr>\n",
       "  </tbody>\n",
       "</table>\n",
       "</div>"
      ],
      "text/plain": [
       "                                           Title     Location  \\\n",
       "0                                 Data Scientist         None   \n",
       "1                                 Data Scientist         None   \n",
       "2       Optimization Specialist - Data Scientist         None   \n",
       "3  Data Analytical Specialist/Scientist - 308493         None   \n",
       "4                                 Data Scientist  Toronto, ON   \n",
       "\n",
       "                  Company Salary  \n",
       "0         Sécurité XGuard   None  \n",
       "1                Neelands   None  \n",
       "2  Myticas Consulting ULC   None  \n",
       "3                  Procom   None  \n",
       "4                  Loopio   None  "
      ]
     },
     "execution_count": 18,
     "metadata": {},
     "output_type": "execute_result"
    }
   ],
   "source": [
    "data_sal_none_temp = data1[data1['Salary'].str.contains('None')].reset_index(drop=True)\n",
    "data_sal_none_temp.head()"
   ]
  },
  {
   "cell_type": "markdown",
   "metadata": {},
   "source": [
    "Now let's bring together our newly formed dataset and save it as <b>data_sal_all</b> and rename the table header as <b>Title</b>, <b>Location</b>, <b>Company</b> and <b>Salary</b>"
   ]
  },
  {
   "cell_type": "code",
   "execution_count": 19,
   "metadata": {},
   "outputs": [
    {
     "data": {
      "text/html": [
       "<div>\n",
       "<style scoped>\n",
       "    .dataframe tbody tr th:only-of-type {\n",
       "        vertical-align: middle;\n",
       "    }\n",
       "\n",
       "    .dataframe tbody tr th {\n",
       "        vertical-align: top;\n",
       "    }\n",
       "\n",
       "    .dataframe thead th {\n",
       "        text-align: right;\n",
       "    }\n",
       "</style>\n",
       "<table border=\"1\" class=\"dataframe\">\n",
       "  <thead>\n",
       "    <tr style=\"text-align: right;\">\n",
       "      <th></th>\n",
       "      <th>Title</th>\n",
       "      <th>Location</th>\n",
       "      <th>Company</th>\n",
       "      <th>Salary</th>\n",
       "    </tr>\n",
       "  </thead>\n",
       "  <tbody>\n",
       "    <tr>\n",
       "      <th>3</th>\n",
       "      <td>Jr. Data Scientist (Summer Student</td>\n",
       "      <td>Ottawa ON</td>\n",
       "      <td>RVezy</td>\n",
       "      <td>26000</td>\n",
       "    </tr>\n",
       "    <tr>\n",
       "      <th>4</th>\n",
       "      <td>Jr. Data Scientist (Summer Student</td>\n",
       "      <td>Ottawa ON</td>\n",
       "      <td>RVezy</td>\n",
       "      <td>26000</td>\n",
       "    </tr>\n",
       "    <tr>\n",
       "      <th>4</th>\n",
       "      <td>Data Analyst</td>\n",
       "      <td>Toronto ON</td>\n",
       "      <td>Sryas Inc.</td>\n",
       "      <td>42500</td>\n",
       "    </tr>\n",
       "    <tr>\n",
       "      <th>8</th>\n",
       "      <td>Data Analyst</td>\n",
       "      <td>Victoria BC</td>\n",
       "      <td>BC Pension Corporation</td>\n",
       "      <td>75922</td>\n",
       "    </tr>\n",
       "    <tr>\n",
       "      <th>6</th>\n",
       "      <td>Data Science Instructor</td>\n",
       "      <td>Toronto ON</td>\n",
       "      <td>Juno College of Technology</td>\n",
       "      <td>77500</td>\n",
       "    </tr>\n",
       "  </tbody>\n",
       "</table>\n",
       "</div>"
      ],
      "text/plain": [
       "                                Title     Location  \\\n",
       "3  Jr. Data Scientist (Summer Student    Ottawa ON   \n",
       "4  Jr. Data Scientist (Summer Student    Ottawa ON   \n",
       "4                        Data Analyst   Toronto ON   \n",
       "8                        Data Analyst  Victoria BC   \n",
       "6             Data Science Instructor   Toronto ON   \n",
       "\n",
       "                      Company  Salary  \n",
       "3                       RVezy   26000  \n",
       "4                       RVezy   26000  \n",
       "4                  Sryas Inc.   42500  \n",
       "8      BC Pension Corporation   75922  \n",
       "6  Juno College of Technology   77500  "
      ]
     },
     "execution_count": 19,
     "metadata": {},
     "output_type": "execute_result"
    }
   ],
   "source": [
    "data_sal_all = pd.concat([data_sal_year_6, data_sal_month_6, data_sal_week_6, data_sal_hour_6], axis=0, sort=True)\n",
    "data_sal_all.columns = ['Title', 'Location', 'Company', 'Salary']\n",
    "data_sal_all.sort_values(by='Salary',ascending=True, inplace=True)\n",
    "data_sal_all.head()"
   ]
  },
  {
   "cell_type": "markdown",
   "metadata": {},
   "source": [
    "Now, let's join the two data sets, <b>data_sal_all</b> and <b>data_sal_none_temp</b> and save them in <b>data_sal_all_1</b>"
   ]
  },
  {
   "cell_type": "code",
   "execution_count": 20,
   "metadata": {},
   "outputs": [
    {
     "data": {
      "text/html": [
       "<div>\n",
       "<style scoped>\n",
       "    .dataframe tbody tr th:only-of-type {\n",
       "        vertical-align: middle;\n",
       "    }\n",
       "\n",
       "    .dataframe tbody tr th {\n",
       "        vertical-align: top;\n",
       "    }\n",
       "\n",
       "    .dataframe thead th {\n",
       "        text-align: right;\n",
       "    }\n",
       "</style>\n",
       "<table border=\"1\" class=\"dataframe\">\n",
       "  <thead>\n",
       "    <tr style=\"text-align: right;\">\n",
       "      <th></th>\n",
       "      <th>Company</th>\n",
       "      <th>Location</th>\n",
       "      <th>Salary</th>\n",
       "      <th>Title</th>\n",
       "    </tr>\n",
       "  </thead>\n",
       "  <tbody>\n",
       "    <tr>\n",
       "      <th>3</th>\n",
       "      <td>RVezy</td>\n",
       "      <td>Ottawa ON</td>\n",
       "      <td>26000</td>\n",
       "      <td>Jr. Data Scientist (Summer Student</td>\n",
       "    </tr>\n",
       "    <tr>\n",
       "      <th>4</th>\n",
       "      <td>RVezy</td>\n",
       "      <td>Ottawa ON</td>\n",
       "      <td>26000</td>\n",
       "      <td>Jr. Data Scientist (Summer Student</td>\n",
       "    </tr>\n",
       "    <tr>\n",
       "      <th>4</th>\n",
       "      <td>Sryas Inc.</td>\n",
       "      <td>Toronto ON</td>\n",
       "      <td>42500</td>\n",
       "      <td>Data Analyst</td>\n",
       "    </tr>\n",
       "    <tr>\n",
       "      <th>8</th>\n",
       "      <td>BC Pension Corporation</td>\n",
       "      <td>Victoria BC</td>\n",
       "      <td>75922</td>\n",
       "      <td>Data Analyst</td>\n",
       "    </tr>\n",
       "    <tr>\n",
       "      <th>6</th>\n",
       "      <td>Juno College of Technology</td>\n",
       "      <td>Toronto ON</td>\n",
       "      <td>77500</td>\n",
       "      <td>Data Science Instructor</td>\n",
       "    </tr>\n",
       "  </tbody>\n",
       "</table>\n",
       "</div>"
      ],
      "text/plain": [
       "                      Company     Location Salary  \\\n",
       "3                       RVezy    Ottawa ON  26000   \n",
       "4                       RVezy    Ottawa ON  26000   \n",
       "4                  Sryas Inc.   Toronto ON  42500   \n",
       "8      BC Pension Corporation  Victoria BC  75922   \n",
       "6  Juno College of Technology   Toronto ON  77500   \n",
       "\n",
       "                                Title  \n",
       "3  Jr. Data Scientist (Summer Student  \n",
       "4  Jr. Data Scientist (Summer Student  \n",
       "4                        Data Analyst  \n",
       "8                        Data Analyst  \n",
       "6             Data Science Instructor  "
      ]
     },
     "execution_count": 20,
     "metadata": {},
     "output_type": "execute_result"
    }
   ],
   "source": [
    "data_sal_all_1 = pd.concat([data_sal_all, data_sal_none_temp], axis=0, sort=True)\n",
    "data_sal_all_1.head()"
   ]
  },
  {
   "cell_type": "markdown",
   "metadata": {},
   "source": [
    "Let's see the shape of <b>data_sal_all_1</b>"
   ]
  },
  {
   "cell_type": "code",
   "execution_count": 21,
   "metadata": {},
   "outputs": [
    {
     "data": {
      "text/plain": [
       "(165, 4)"
      ]
     },
     "execution_count": 21,
     "metadata": {},
     "output_type": "execute_result"
    }
   ],
   "source": [
    "data_sal_all_1.shape"
   ]
  },
  {
   "cell_type": "markdown",
   "metadata": {},
   "source": [
    "The shape of <b>data_sal_all_1</b> is <b>(283, 5)</b> which is same as the shape of <b>data1</b>.\n",
    "This proves that we successfully managed to merge the 2 datasets without missing any row."
   ]
  },
  {
   "cell_type": "markdown",
   "metadata": {},
   "source": [
    "Now let's replace <b>'None'</b> values with <b>np.nan</b> and change the data type of <b>Salary</b> to *float*"
   ]
  },
  {
   "cell_type": "code",
   "execution_count": 22,
   "metadata": {
    "scrolled": true
   },
   "outputs": [
    {
     "data": {
      "text/plain": [
       "3       26000.0\n",
       "4       26000.0\n",
       "4       42500.0\n",
       "8       75922.0\n",
       "6       77500.0\n",
       "1       84010.0\n",
       "0       85000.0\n",
       "2       85000.0\n",
       "3       88452.0\n",
       "5       89187.0\n",
       "7       89187.0\n",
       "0       95815.0\n",
       "1      124800.0\n",
       "0      144000.0\n",
       "2      156000.0\n",
       "0           NaN\n",
       "1           NaN\n",
       "2           NaN\n",
       "3           NaN\n",
       "4           NaN\n",
       "5           NaN\n",
       "6           NaN\n",
       "7           NaN\n",
       "8           NaN\n",
       "9           NaN\n",
       "10          NaN\n",
       "11          NaN\n",
       "12          NaN\n",
       "13          NaN\n",
       "14          NaN\n",
       "         ...   \n",
       "120         NaN\n",
       "121         NaN\n",
       "122         NaN\n",
       "123         NaN\n",
       "124         NaN\n",
       "125         NaN\n",
       "126         NaN\n",
       "127         NaN\n",
       "128         NaN\n",
       "129         NaN\n",
       "130         NaN\n",
       "131         NaN\n",
       "132         NaN\n",
       "133         NaN\n",
       "134         NaN\n",
       "135         NaN\n",
       "136         NaN\n",
       "137         NaN\n",
       "138         NaN\n",
       "139         NaN\n",
       "140         NaN\n",
       "141         NaN\n",
       "142         NaN\n",
       "143         NaN\n",
       "144         NaN\n",
       "145         NaN\n",
       "146         NaN\n",
       "147         NaN\n",
       "148         NaN\n",
       "149         NaN\n",
       "Name: Salary, Length: 165, dtype: float64"
      ]
     },
     "execution_count": 22,
     "metadata": {},
     "output_type": "execute_result"
    }
   ],
   "source": [
    "data5a = data_sal_all_1.replace('None',np.nan, regex=True)\n",
    "data5a['Salary'].astype('float')"
   ]
  },
  {
   "cell_type": "markdown",
   "metadata": {},
   "source": [
    "Now, let's find the mean of the the cell Sa;ary using the .mean() method"
   ]
  },
  {
   "cell_type": "code",
   "execution_count": 23,
   "metadata": {},
   "outputs": [
    {
     "data": {
      "text/plain": [
       "85958.2"
      ]
     },
     "execution_count": 23,
     "metadata": {},
     "output_type": "execute_result"
    }
   ],
   "source": [
    "mean_1 = data5a['Salary'].mean()\n",
    "mean_1"
   ]
  },
  {
   "cell_type": "markdown",
   "metadata": {},
   "source": [
    "We can now replace the np.nan cells with the mean salary obtained in the previous step.\n",
    "\n",
    "Let's also change the datatype to *int*"
   ]
  },
  {
   "cell_type": "code",
   "execution_count": 24,
   "metadata": {
    "scrolled": true
   },
   "outputs": [],
   "source": [
    "data5b = data5a['Salary'].replace(np.nan, mean_1)\n",
    "data5ba = data5b.astype('int')"
   ]
  },
  {
   "cell_type": "markdown",
   "metadata": {},
   "source": [
    "Let's concact this salary to our previous dataframe <b>data_sal_all_1</b>"
   ]
  },
  {
   "cell_type": "code",
   "execution_count": 25,
   "metadata": {},
   "outputs": [
    {
     "data": {
      "text/html": [
       "<div>\n",
       "<style scoped>\n",
       "    .dataframe tbody tr th:only-of-type {\n",
       "        vertical-align: middle;\n",
       "    }\n",
       "\n",
       "    .dataframe tbody tr th {\n",
       "        vertical-align: top;\n",
       "    }\n",
       "\n",
       "    .dataframe thead th {\n",
       "        text-align: right;\n",
       "    }\n",
       "</style>\n",
       "<table border=\"1\" class=\"dataframe\">\n",
       "  <thead>\n",
       "    <tr style=\"text-align: right;\">\n",
       "      <th></th>\n",
       "      <th>index</th>\n",
       "      <th>Company</th>\n",
       "      <th>Location</th>\n",
       "      <th>Salary</th>\n",
       "      <th>Title</th>\n",
       "      <th>Salary</th>\n",
       "    </tr>\n",
       "  </thead>\n",
       "  <tbody>\n",
       "    <tr>\n",
       "      <th>0</th>\n",
       "      <td>3</td>\n",
       "      <td>RVezy</td>\n",
       "      <td>Ottawa ON</td>\n",
       "      <td>26000</td>\n",
       "      <td>Jr. Data Scientist (Summer Student</td>\n",
       "      <td>26000</td>\n",
       "    </tr>\n",
       "    <tr>\n",
       "      <th>1</th>\n",
       "      <td>4</td>\n",
       "      <td>RVezy</td>\n",
       "      <td>Ottawa ON</td>\n",
       "      <td>26000</td>\n",
       "      <td>Jr. Data Scientist (Summer Student</td>\n",
       "      <td>26000</td>\n",
       "    </tr>\n",
       "    <tr>\n",
       "      <th>2</th>\n",
       "      <td>4</td>\n",
       "      <td>Sryas Inc.</td>\n",
       "      <td>Toronto ON</td>\n",
       "      <td>42500</td>\n",
       "      <td>Data Analyst</td>\n",
       "      <td>42500</td>\n",
       "    </tr>\n",
       "    <tr>\n",
       "      <th>3</th>\n",
       "      <td>8</td>\n",
       "      <td>BC Pension Corporation</td>\n",
       "      <td>Victoria BC</td>\n",
       "      <td>75922</td>\n",
       "      <td>Data Analyst</td>\n",
       "      <td>75922</td>\n",
       "    </tr>\n",
       "    <tr>\n",
       "      <th>4</th>\n",
       "      <td>6</td>\n",
       "      <td>Juno College of Technology</td>\n",
       "      <td>Toronto ON</td>\n",
       "      <td>77500</td>\n",
       "      <td>Data Science Instructor</td>\n",
       "      <td>77500</td>\n",
       "    </tr>\n",
       "    <tr>\n",
       "      <th>5</th>\n",
       "      <td>1</td>\n",
       "      <td>Niagara Region</td>\n",
       "      <td>Niagara ON</td>\n",
       "      <td>84010</td>\n",
       "      <td>Data Scientist</td>\n",
       "      <td>84010</td>\n",
       "    </tr>\n",
       "    <tr>\n",
       "      <th>6</th>\n",
       "      <td>0</td>\n",
       "      <td>Plus10</td>\n",
       "      <td>None</td>\n",
       "      <td>85000</td>\n",
       "      <td>Data Scientist</td>\n",
       "      <td>85000</td>\n",
       "    </tr>\n",
       "    <tr>\n",
       "      <th>7</th>\n",
       "      <td>2</td>\n",
       "      <td>Plus10</td>\n",
       "      <td>None</td>\n",
       "      <td>85000</td>\n",
       "      <td>Data Scientist</td>\n",
       "      <td>85000</td>\n",
       "    </tr>\n",
       "    <tr>\n",
       "      <th>8</th>\n",
       "      <td>3</td>\n",
       "      <td>Mastech InfoTrellis</td>\n",
       "      <td>Ottawa ON</td>\n",
       "      <td>88452</td>\n",
       "      <td>Data Scientist</td>\n",
       "      <td>88452</td>\n",
       "    </tr>\n",
       "    <tr>\n",
       "      <th>9</th>\n",
       "      <td>5</td>\n",
       "      <td>PulseMedica</td>\n",
       "      <td>Edmonton AB</td>\n",
       "      <td>89187</td>\n",
       "      <td>Machine Learning Engineer</td>\n",
       "      <td>89187</td>\n",
       "    </tr>\n",
       "    <tr>\n",
       "      <th>10</th>\n",
       "      <td>7</td>\n",
       "      <td>PulseMedica</td>\n",
       "      <td>Edmonton AB</td>\n",
       "      <td>89187</td>\n",
       "      <td>Machine Learning Engineer</td>\n",
       "      <td>89187</td>\n",
       "    </tr>\n",
       "    <tr>\n",
       "      <th>11</th>\n",
       "      <td>0</td>\n",
       "      <td>eHealth Saskatchewan</td>\n",
       "      <td>Regina SK</td>\n",
       "      <td>95815</td>\n",
       "      <td>Data Scientist</td>\n",
       "      <td>95815</td>\n",
       "    </tr>\n",
       "    <tr>\n",
       "      <th>12</th>\n",
       "      <td>1</td>\n",
       "      <td>Dawn InfoTek Inc.</td>\n",
       "      <td>Toronto ON</td>\n",
       "      <td>124800</td>\n",
       "      <td>Data Scientist</td>\n",
       "      <td>124800</td>\n",
       "    </tr>\n",
       "    <tr>\n",
       "      <th>13</th>\n",
       "      <td>0</td>\n",
       "      <td>Journey Education</td>\n",
       "      <td>Canada</td>\n",
       "      <td>144000</td>\n",
       "      <td>Data Science Instructor</td>\n",
       "      <td>144000</td>\n",
       "    </tr>\n",
       "    <tr>\n",
       "      <th>14</th>\n",
       "      <td>2</td>\n",
       "      <td>Robert Half</td>\n",
       "      <td>None</td>\n",
       "      <td>156000</td>\n",
       "      <td>Senior Business Analyst/ Data Analyst</td>\n",
       "      <td>156000</td>\n",
       "    </tr>\n",
       "    <tr>\n",
       "      <th>15</th>\n",
       "      <td>0</td>\n",
       "      <td>Sécurité XGuard</td>\n",
       "      <td>None</td>\n",
       "      <td>None</td>\n",
       "      <td>Data Scientist</td>\n",
       "      <td>85958</td>\n",
       "    </tr>\n",
       "    <tr>\n",
       "      <th>16</th>\n",
       "      <td>1</td>\n",
       "      <td>Neelands</td>\n",
       "      <td>None</td>\n",
       "      <td>None</td>\n",
       "      <td>Data Scientist</td>\n",
       "      <td>85958</td>\n",
       "    </tr>\n",
       "    <tr>\n",
       "      <th>17</th>\n",
       "      <td>2</td>\n",
       "      <td>Myticas Consulting ULC</td>\n",
       "      <td>None</td>\n",
       "      <td>None</td>\n",
       "      <td>Optimization Specialist - Data Scientist</td>\n",
       "      <td>85958</td>\n",
       "    </tr>\n",
       "    <tr>\n",
       "      <th>18</th>\n",
       "      <td>3</td>\n",
       "      <td>Procom</td>\n",
       "      <td>None</td>\n",
       "      <td>None</td>\n",
       "      <td>Data Analytical Specialist/Scientist - 308493</td>\n",
       "      <td>85958</td>\n",
       "    </tr>\n",
       "    <tr>\n",
       "      <th>19</th>\n",
       "      <td>4</td>\n",
       "      <td>Loopio</td>\n",
       "      <td>Toronto, ON</td>\n",
       "      <td>None</td>\n",
       "      <td>Data Scientist</td>\n",
       "      <td>85958</td>\n",
       "    </tr>\n",
       "    <tr>\n",
       "      <th>20</th>\n",
       "      <td>5</td>\n",
       "      <td>Air Liquide</td>\n",
       "      <td>Quebec City, QC</td>\n",
       "      <td>None</td>\n",
       "      <td>Data Science Associate - Montreal</td>\n",
       "      <td>85958</td>\n",
       "    </tr>\n",
       "    <tr>\n",
       "      <th>21</th>\n",
       "      <td>6</td>\n",
       "      <td>Thales Group</td>\n",
       "      <td>Montréal, QC</td>\n",
       "      <td>None</td>\n",
       "      <td>Data Scientist Intern</td>\n",
       "      <td>85958</td>\n",
       "    </tr>\n",
       "    <tr>\n",
       "      <th>22</th>\n",
       "      <td>7</td>\n",
       "      <td>Ubisoft</td>\n",
       "      <td>Montréal, QC</td>\n",
       "      <td>None</td>\n",
       "      <td>Data Scientist</td>\n",
       "      <td>85958</td>\n",
       "    </tr>\n",
       "    <tr>\n",
       "      <th>23</th>\n",
       "      <td>8</td>\n",
       "      <td>RBC</td>\n",
       "      <td>Toronto, ON</td>\n",
       "      <td>None</td>\n",
       "      <td>Data Scientist</td>\n",
       "      <td>85958</td>\n",
       "    </tr>\n",
       "    <tr>\n",
       "      <th>24</th>\n",
       "      <td>9</td>\n",
       "      <td>PRA Health Sciences</td>\n",
       "      <td>Remote</td>\n",
       "      <td>None</td>\n",
       "      <td>Central Data Scientist</td>\n",
       "      <td>85958</td>\n",
       "    </tr>\n",
       "    <tr>\n",
       "      <th>25</th>\n",
       "      <td>10</td>\n",
       "      <td>CNOOC International</td>\n",
       "      <td>Calgary, AB</td>\n",
       "      <td>None</td>\n",
       "      <td>Data Scientist / Data Science Engineer</td>\n",
       "      <td>85958</td>\n",
       "    </tr>\n",
       "    <tr>\n",
       "      <th>26</th>\n",
       "      <td>11</td>\n",
       "      <td>Koho</td>\n",
       "      <td>Toronto, ON</td>\n",
       "      <td>None</td>\n",
       "      <td>Data Scientist</td>\n",
       "      <td>85958</td>\n",
       "    </tr>\n",
       "    <tr>\n",
       "      <th>27</th>\n",
       "      <td>12</td>\n",
       "      <td>ELEMENTS Global Services</td>\n",
       "      <td>Toronto, ON</td>\n",
       "      <td>None</td>\n",
       "      <td>Data Engineer</td>\n",
       "      <td>85958</td>\n",
       "    </tr>\n",
       "    <tr>\n",
       "      <th>28</th>\n",
       "      <td>13</td>\n",
       "      <td>Cymax Group</td>\n",
       "      <td>Vancouver, BC</td>\n",
       "      <td>None</td>\n",
       "      <td>Intermediate Data Scientist</td>\n",
       "      <td>85958</td>\n",
       "    </tr>\n",
       "    <tr>\n",
       "      <th>29</th>\n",
       "      <td>14</td>\n",
       "      <td>Kronos Incorporated</td>\n",
       "      <td>Mississauga, ON</td>\n",
       "      <td>None</td>\n",
       "      <td>College Intern - Data Science (Canada)</td>\n",
       "      <td>85958</td>\n",
       "    </tr>\n",
       "    <tr>\n",
       "      <th>...</th>\n",
       "      <td>...</td>\n",
       "      <td>...</td>\n",
       "      <td>...</td>\n",
       "      <td>...</td>\n",
       "      <td>...</td>\n",
       "      <td>...</td>\n",
       "    </tr>\n",
       "    <tr>\n",
       "      <th>135</th>\n",
       "      <td>120</td>\n",
       "      <td>RBC</td>\n",
       "      <td>Bedford, NS</td>\n",
       "      <td>None</td>\n",
       "      <td>Big Data Engineers &amp; Scientists (Bedford, NS)</td>\n",
       "      <td>85958</td>\n",
       "    </tr>\n",
       "    <tr>\n",
       "      <th>136</th>\n",
       "      <td>121</td>\n",
       "      <td>Staples Canada</td>\n",
       "      <td>Richmond Hill, ON</td>\n",
       "      <td>None</td>\n",
       "      <td>Data Scientist, Supply Chain/Customer Profitab...</td>\n",
       "      <td>85958</td>\n",
       "    </tr>\n",
       "    <tr>\n",
       "      <th>137</th>\n",
       "      <td>122</td>\n",
       "      <td>Triton Digital Canada Inc.</td>\n",
       "      <td>Montréal, QC</td>\n",
       "      <td>None</td>\n",
       "      <td>Développeur Big Data // Big Data Developer</td>\n",
       "      <td>85958</td>\n",
       "    </tr>\n",
       "    <tr>\n",
       "      <th>138</th>\n",
       "      <td>123</td>\n",
       "      <td>Yelp</td>\n",
       "      <td>Toronto, ON</td>\n",
       "      <td>None</td>\n",
       "      <td>Data Science Manager - Marketplaces (Remote)</td>\n",
       "      <td>85958</td>\n",
       "    </tr>\n",
       "    <tr>\n",
       "      <th>139</th>\n",
       "      <td>124</td>\n",
       "      <td>SOTI Inc.</td>\n",
       "      <td>Mississauga, ON</td>\n",
       "      <td>None</td>\n",
       "      <td>Senior Data Scientist</td>\n",
       "      <td>85958</td>\n",
       "    </tr>\n",
       "    <tr>\n",
       "      <th>140</th>\n",
       "      <td>125</td>\n",
       "      <td>KPMG</td>\n",
       "      <td>Toronto, ON</td>\n",
       "      <td>None</td>\n",
       "      <td>Data Scientist, Senior Manager - KPMG Lighthouse</td>\n",
       "      <td>85958</td>\n",
       "    </tr>\n",
       "    <tr>\n",
       "      <th>141</th>\n",
       "      <td>126</td>\n",
       "      <td>AltaML Inc.</td>\n",
       "      <td>Calgary, AB</td>\n",
       "      <td>None</td>\n",
       "      <td>Associate Machine Learning Developer (Cohort 5)</td>\n",
       "      <td>85958</td>\n",
       "    </tr>\n",
       "    <tr>\n",
       "      <th>142</th>\n",
       "      <td>127</td>\n",
       "      <td>Curate Mobile</td>\n",
       "      <td>Toronto, ON</td>\n",
       "      <td>None</td>\n",
       "      <td>Machine Learning Engineer</td>\n",
       "      <td>85958</td>\n",
       "    </tr>\n",
       "    <tr>\n",
       "      <th>143</th>\n",
       "      <td>128</td>\n",
       "      <td>AbCellera</td>\n",
       "      <td>Vancouver, BC</td>\n",
       "      <td>None</td>\n",
       "      <td>Protein Engineer – Applied Scientist</td>\n",
       "      <td>85958</td>\n",
       "    </tr>\n",
       "    <tr>\n",
       "      <th>144</th>\n",
       "      <td>129</td>\n",
       "      <td>Torstar</td>\n",
       "      <td>Toronto, ON</td>\n",
       "      <td>None</td>\n",
       "      <td>Data Scientist</td>\n",
       "      <td>85958</td>\n",
       "    </tr>\n",
       "    <tr>\n",
       "      <th>145</th>\n",
       "      <td>130</td>\n",
       "      <td>BDO</td>\n",
       "      <td>Calgary, AB</td>\n",
       "      <td>None</td>\n",
       "      <td>Senior Data Scientist</td>\n",
       "      <td>85958</td>\n",
       "    </tr>\n",
       "    <tr>\n",
       "      <th>146</th>\n",
       "      <td>131</td>\n",
       "      <td>Digital Extremes</td>\n",
       "      <td>London, ON</td>\n",
       "      <td>None</td>\n",
       "      <td>Web Data Analyst</td>\n",
       "      <td>85958</td>\n",
       "    </tr>\n",
       "    <tr>\n",
       "      <th>147</th>\n",
       "      <td>132</td>\n",
       "      <td>Ballard Power Systems Inc.</td>\n",
       "      <td>Burnaby, BC</td>\n",
       "      <td>None</td>\n",
       "      <td>Data Analyst</td>\n",
       "      <td>85958</td>\n",
       "    </tr>\n",
       "    <tr>\n",
       "      <th>148</th>\n",
       "      <td>133</td>\n",
       "      <td>Facebook</td>\n",
       "      <td>Montréal, QC</td>\n",
       "      <td>None</td>\n",
       "      <td>Research Intern, Artificial Intelligence</td>\n",
       "      <td>85958</td>\n",
       "    </tr>\n",
       "    <tr>\n",
       "      <th>149</th>\n",
       "      <td>134</td>\n",
       "      <td>MSi Corp (Bell Canada)</td>\n",
       "      <td>Montréal, QC</td>\n",
       "      <td>None</td>\n",
       "      <td>BI Developer</td>\n",
       "      <td>85958</td>\n",
       "    </tr>\n",
       "    <tr>\n",
       "      <th>150</th>\n",
       "      <td>135</td>\n",
       "      <td>Rogers Communications</td>\n",
       "      <td>Brampton, ON</td>\n",
       "      <td>None</td>\n",
       "      <td>Data &amp; Analytics Manager</td>\n",
       "      <td>85958</td>\n",
       "    </tr>\n",
       "    <tr>\n",
       "      <th>151</th>\n",
       "      <td>136</td>\n",
       "      <td>EPAM Systems</td>\n",
       "      <td>Canada</td>\n",
       "      <td>None</td>\n",
       "      <td>Python Developer (Machine Learning)</td>\n",
       "      <td>85958</td>\n",
       "    </tr>\n",
       "    <tr>\n",
       "      <th>152</th>\n",
       "      <td>137</td>\n",
       "      <td>Nuvoola</td>\n",
       "      <td>Chambly, QC</td>\n",
       "      <td>None</td>\n",
       "      <td>AI Scientist</td>\n",
       "      <td>85958</td>\n",
       "    </tr>\n",
       "    <tr>\n",
       "      <th>153</th>\n",
       "      <td>138</td>\n",
       "      <td>Cardinal Path</td>\n",
       "      <td>Toronto, ON</td>\n",
       "      <td>None</td>\n",
       "      <td>Data Scientist</td>\n",
       "      <td>85958</td>\n",
       "    </tr>\n",
       "    <tr>\n",
       "      <th>154</th>\n",
       "      <td>139</td>\n",
       "      <td>Google</td>\n",
       "      <td>Waterloo, ON</td>\n",
       "      <td>None</td>\n",
       "      <td>Cloud Technical Solutions Developer, Big Data,...</td>\n",
       "      <td>85958</td>\n",
       "    </tr>\n",
       "    <tr>\n",
       "      <th>155</th>\n",
       "      <td>140</td>\n",
       "      <td>Chisel AI</td>\n",
       "      <td>Toronto, ON</td>\n",
       "      <td>None</td>\n",
       "      <td>Machine Learning Scientist</td>\n",
       "      <td>85958</td>\n",
       "    </tr>\n",
       "    <tr>\n",
       "      <th>156</th>\n",
       "      <td>141</td>\n",
       "      <td>TELUS</td>\n",
       "      <td>Canada</td>\n",
       "      <td>None</td>\n",
       "      <td>BI Analyst</td>\n",
       "      <td>85958</td>\n",
       "    </tr>\n",
       "    <tr>\n",
       "      <th>157</th>\n",
       "      <td>142</td>\n",
       "      <td>Avanade</td>\n",
       "      <td>Calgary, AB</td>\n",
       "      <td>None</td>\n",
       "      <td>Data Science Consultant</td>\n",
       "      <td>85958</td>\n",
       "    </tr>\n",
       "    <tr>\n",
       "      <th>158</th>\n",
       "      <td>143</td>\n",
       "      <td>Chi Square Economics</td>\n",
       "      <td>Toronto, ON</td>\n",
       "      <td>None</td>\n",
       "      <td>HEAD OF ECONOMIC CONSULTING AND DATA SCIENCE –...</td>\n",
       "      <td>85958</td>\n",
       "    </tr>\n",
       "    <tr>\n",
       "      <th>159</th>\n",
       "      <td>144</td>\n",
       "      <td>Aspen Technology</td>\n",
       "      <td>Montréal, QC</td>\n",
       "      <td>None</td>\n",
       "      <td>Product Manager-Data Science &amp; Analytics Studio</td>\n",
       "      <td>85958</td>\n",
       "    </tr>\n",
       "    <tr>\n",
       "      <th>160</th>\n",
       "      <td>145</td>\n",
       "      <td>Element AI</td>\n",
       "      <td>Toronto, ON</td>\n",
       "      <td>None</td>\n",
       "      <td>Chercheuse/Chercheur scientifique, recherche a...</td>\n",
       "      <td>85958</td>\n",
       "    </tr>\n",
       "    <tr>\n",
       "      <th>161</th>\n",
       "      <td>146</td>\n",
       "      <td>Aldo Groupe</td>\n",
       "      <td>Montréal, QC</td>\n",
       "      <td>None</td>\n",
       "      <td>Specialist, Advanced Analytics</td>\n",
       "      <td>85958</td>\n",
       "    </tr>\n",
       "    <tr>\n",
       "      <th>162</th>\n",
       "      <td>147</td>\n",
       "      <td>Bowen Group</td>\n",
       "      <td>None</td>\n",
       "      <td>None</td>\n",
       "      <td>MACHINE LEARNING ARCHITECT</td>\n",
       "      <td>85958</td>\n",
       "    </tr>\n",
       "    <tr>\n",
       "      <th>163</th>\n",
       "      <td>148</td>\n",
       "      <td>BMW Group Financial Services Canada</td>\n",
       "      <td>Toronto, ON</td>\n",
       "      <td>None</td>\n",
       "      <td>Data Analyst Intern, Controlling (12 Months)</td>\n",
       "      <td>85958</td>\n",
       "    </tr>\n",
       "    <tr>\n",
       "      <th>164</th>\n",
       "      <td>149</td>\n",
       "      <td>Aviva</td>\n",
       "      <td>Markham, ON</td>\n",
       "      <td>None</td>\n",
       "      <td>Head of Fraud Analytics</td>\n",
       "      <td>85958</td>\n",
       "    </tr>\n",
       "  </tbody>\n",
       "</table>\n",
       "<p>165 rows × 6 columns</p>\n",
       "</div>"
      ],
      "text/plain": [
       "     index                              Company           Location  Salary  \\\n",
       "0        3                                RVezy          Ottawa ON   26000   \n",
       "1        4                                RVezy          Ottawa ON   26000   \n",
       "2        4                           Sryas Inc.         Toronto ON   42500   \n",
       "3        8               BC Pension Corporation        Victoria BC   75922   \n",
       "4        6           Juno College of Technology         Toronto ON   77500   \n",
       "5        1                       Niagara Region         Niagara ON   84010   \n",
       "6        0                               Plus10               None   85000   \n",
       "7        2                               Plus10               None   85000   \n",
       "8        3                  Mastech InfoTrellis          Ottawa ON   88452   \n",
       "9        5                          PulseMedica        Edmonton AB   89187   \n",
       "10       7                          PulseMedica        Edmonton AB   89187   \n",
       "11       0                 eHealth Saskatchewan          Regina SK   95815   \n",
       "12       1                    Dawn InfoTek Inc.         Toronto ON  124800   \n",
       "13       0                    Journey Education             Canada  144000   \n",
       "14       2                          Robert Half               None  156000   \n",
       "15       0                      Sécurité XGuard               None    None   \n",
       "16       1                             Neelands               None    None   \n",
       "17       2               Myticas Consulting ULC               None    None   \n",
       "18       3                               Procom               None    None   \n",
       "19       4                               Loopio        Toronto, ON    None   \n",
       "20       5                          Air Liquide    Quebec City, QC    None   \n",
       "21       6                         Thales Group       Montréal, QC    None   \n",
       "22       7                              Ubisoft       Montréal, QC    None   \n",
       "23       8                                  RBC        Toronto, ON    None   \n",
       "24       9                  PRA Health Sciences             Remote    None   \n",
       "25      10                  CNOOC International        Calgary, AB    None   \n",
       "26      11                                 Koho        Toronto, ON    None   \n",
       "27      12             ELEMENTS Global Services        Toronto, ON    None   \n",
       "28      13                          Cymax Group      Vancouver, BC    None   \n",
       "29      14                  Kronos Incorporated    Mississauga, ON    None   \n",
       "..     ...                                  ...                ...     ...   \n",
       "135    120                                  RBC        Bedford, NS    None   \n",
       "136    121                       Staples Canada  Richmond Hill, ON    None   \n",
       "137    122           Triton Digital Canada Inc.       Montréal, QC    None   \n",
       "138    123                                 Yelp        Toronto, ON    None   \n",
       "139    124                            SOTI Inc.    Mississauga, ON    None   \n",
       "140    125                                 KPMG        Toronto, ON    None   \n",
       "141    126                          AltaML Inc.        Calgary, AB    None   \n",
       "142    127                        Curate Mobile        Toronto, ON    None   \n",
       "143    128                            AbCellera      Vancouver, BC    None   \n",
       "144    129                              Torstar        Toronto, ON    None   \n",
       "145    130                                  BDO        Calgary, AB    None   \n",
       "146    131                     Digital Extremes         London, ON    None   \n",
       "147    132           Ballard Power Systems Inc.        Burnaby, BC    None   \n",
       "148    133                             Facebook       Montréal, QC    None   \n",
       "149    134               MSi Corp (Bell Canada)       Montréal, QC    None   \n",
       "150    135                Rogers Communications       Brampton, ON    None   \n",
       "151    136                         EPAM Systems             Canada    None   \n",
       "152    137                              Nuvoola        Chambly, QC    None   \n",
       "153    138                        Cardinal Path        Toronto, ON    None   \n",
       "154    139                               Google       Waterloo, ON    None   \n",
       "155    140                            Chisel AI        Toronto, ON    None   \n",
       "156    141                                TELUS             Canada    None   \n",
       "157    142                              Avanade        Calgary, AB    None   \n",
       "158    143                 Chi Square Economics        Toronto, ON    None   \n",
       "159    144                     Aspen Technology       Montréal, QC    None   \n",
       "160    145                           Element AI        Toronto, ON    None   \n",
       "161    146                          Aldo Groupe       Montréal, QC    None   \n",
       "162    147                          Bowen Group               None    None   \n",
       "163    148  BMW Group Financial Services Canada        Toronto, ON    None   \n",
       "164    149                                Aviva        Markham, ON    None   \n",
       "\n",
       "                                                 Title  Salary  \n",
       "0                   Jr. Data Scientist (Summer Student   26000  \n",
       "1                   Jr. Data Scientist (Summer Student   26000  \n",
       "2                                         Data Analyst   42500  \n",
       "3                                         Data Analyst   75922  \n",
       "4                              Data Science Instructor   77500  \n",
       "5                                       Data Scientist   84010  \n",
       "6                                       Data Scientist   85000  \n",
       "7                                       Data Scientist   85000  \n",
       "8                                       Data Scientist   88452  \n",
       "9                            Machine Learning Engineer   89187  \n",
       "10                           Machine Learning Engineer   89187  \n",
       "11                                      Data Scientist   95815  \n",
       "12                                      Data Scientist  124800  \n",
       "13                             Data Science Instructor  144000  \n",
       "14               Senior Business Analyst/ Data Analyst  156000  \n",
       "15                                      Data Scientist   85958  \n",
       "16                                      Data Scientist   85958  \n",
       "17            Optimization Specialist - Data Scientist   85958  \n",
       "18       Data Analytical Specialist/Scientist - 308493   85958  \n",
       "19                                      Data Scientist   85958  \n",
       "20                   Data Science Associate - Montreal   85958  \n",
       "21                               Data Scientist Intern   85958  \n",
       "22                                      Data Scientist   85958  \n",
       "23                                      Data Scientist   85958  \n",
       "24                              Central Data Scientist   85958  \n",
       "25              Data Scientist / Data Science Engineer   85958  \n",
       "26                                      Data Scientist   85958  \n",
       "27                                       Data Engineer   85958  \n",
       "28                         Intermediate Data Scientist   85958  \n",
       "29              College Intern - Data Science (Canada)   85958  \n",
       "..                                                 ...     ...  \n",
       "135      Big Data Engineers & Scientists (Bedford, NS)   85958  \n",
       "136  Data Scientist, Supply Chain/Customer Profitab...   85958  \n",
       "137         Développeur Big Data // Big Data Developer   85958  \n",
       "138       Data Science Manager - Marketplaces (Remote)   85958  \n",
       "139                              Senior Data Scientist   85958  \n",
       "140   Data Scientist, Senior Manager - KPMG Lighthouse   85958  \n",
       "141    Associate Machine Learning Developer (Cohort 5)   85958  \n",
       "142                          Machine Learning Engineer   85958  \n",
       "143               Protein Engineer – Applied Scientist   85958  \n",
       "144                                     Data Scientist   85958  \n",
       "145                              Senior Data Scientist   85958  \n",
       "146                                   Web Data Analyst   85958  \n",
       "147                                       Data Analyst   85958  \n",
       "148           Research Intern, Artificial Intelligence   85958  \n",
       "149                                       BI Developer   85958  \n",
       "150                           Data & Analytics Manager   85958  \n",
       "151                Python Developer (Machine Learning)   85958  \n",
       "152                                       AI Scientist   85958  \n",
       "153                                     Data Scientist   85958  \n",
       "154  Cloud Technical Solutions Developer, Big Data,...   85958  \n",
       "155                         Machine Learning Scientist   85958  \n",
       "156                                         BI Analyst   85958  \n",
       "157                            Data Science Consultant   85958  \n",
       "158  HEAD OF ECONOMIC CONSULTING AND DATA SCIENCE –...   85958  \n",
       "159    Product Manager-Data Science & Analytics Studio   85958  \n",
       "160  Chercheuse/Chercheur scientifique, recherche a...   85958  \n",
       "161                     Specialist, Advanced Analytics   85958  \n",
       "162                         MACHINE LEARNING ARCHITECT   85958  \n",
       "163       Data Analyst Intern, Controlling (12 Months)   85958  \n",
       "164                            Head of Fraud Analytics   85958  \n",
       "\n",
       "[165 rows x 6 columns]"
      ]
     },
     "execution_count": 25,
     "metadata": {},
     "output_type": "execute_result"
    }
   ],
   "source": [
    "data5c = pd.concat([data_sal_all_1, data5ba], axis=1)\n",
    "data5c.reset_index()"
   ]
  },
  {
   "cell_type": "markdown",
   "metadata": {},
   "source": [
    "Now we have two Salary columns in our dataframe, so we rename the old one to Salary_1 and drop it."
   ]
  },
  {
   "cell_type": "code",
   "execution_count": 26,
   "metadata": {},
   "outputs": [
    {
     "data": {
      "text/html": [
       "<div>\n",
       "<style scoped>\n",
       "    .dataframe tbody tr th:only-of-type {\n",
       "        vertical-align: middle;\n",
       "    }\n",
       "\n",
       "    .dataframe tbody tr th {\n",
       "        vertical-align: top;\n",
       "    }\n",
       "\n",
       "    .dataframe thead th {\n",
       "        text-align: right;\n",
       "    }\n",
       "</style>\n",
       "<table border=\"1\" class=\"dataframe\">\n",
       "  <thead>\n",
       "    <tr style=\"text-align: right;\">\n",
       "      <th></th>\n",
       "      <th>Company</th>\n",
       "      <th>Location</th>\n",
       "      <th>Title</th>\n",
       "      <th>Salary</th>\n",
       "    </tr>\n",
       "  </thead>\n",
       "  <tbody>\n",
       "    <tr>\n",
       "      <th>3</th>\n",
       "      <td>RVezy</td>\n",
       "      <td>Ottawa ON</td>\n",
       "      <td>Jr. Data Scientist (Summer Student</td>\n",
       "      <td>26000</td>\n",
       "    </tr>\n",
       "    <tr>\n",
       "      <th>4</th>\n",
       "      <td>RVezy</td>\n",
       "      <td>Ottawa ON</td>\n",
       "      <td>Jr. Data Scientist (Summer Student</td>\n",
       "      <td>26000</td>\n",
       "    </tr>\n",
       "    <tr>\n",
       "      <th>4</th>\n",
       "      <td>Sryas Inc.</td>\n",
       "      <td>Toronto ON</td>\n",
       "      <td>Data Analyst</td>\n",
       "      <td>42500</td>\n",
       "    </tr>\n",
       "    <tr>\n",
       "      <th>8</th>\n",
       "      <td>BC Pension Corporation</td>\n",
       "      <td>Victoria BC</td>\n",
       "      <td>Data Analyst</td>\n",
       "      <td>75922</td>\n",
       "    </tr>\n",
       "    <tr>\n",
       "      <th>6</th>\n",
       "      <td>Juno College of Technology</td>\n",
       "      <td>Toronto ON</td>\n",
       "      <td>Data Science Instructor</td>\n",
       "      <td>77500</td>\n",
       "    </tr>\n",
       "  </tbody>\n",
       "</table>\n",
       "</div>"
      ],
      "text/plain": [
       "                      Company     Location  \\\n",
       "3                       RVezy    Ottawa ON   \n",
       "4                       RVezy    Ottawa ON   \n",
       "4                  Sryas Inc.   Toronto ON   \n",
       "8      BC Pension Corporation  Victoria BC   \n",
       "6  Juno College of Technology   Toronto ON   \n",
       "\n",
       "                                Title  Salary  \n",
       "3  Jr. Data Scientist (Summer Student   26000  \n",
       "4  Jr. Data Scientist (Summer Student   26000  \n",
       "4                        Data Analyst   42500  \n",
       "8                        Data Analyst   75922  \n",
       "6             Data Science Instructor   77500  "
      ]
     },
     "execution_count": 26,
     "metadata": {},
     "output_type": "execute_result"
    }
   ],
   "source": [
    "data5c.columns = ['Company', 'Location', 'Salary_1', 'Title', 'Salary']\n",
    "data5d = data5c.drop(['Salary_1'], axis=1)\n",
    "data5d.head()"
   ]
  },
  {
   "cell_type": "code",
   "execution_count": 27,
   "metadata": {},
   "outputs": [],
   "source": [
    "data5d.to_csv('data/data-'+job_title_us+'-'+str(d2)+'.csv', index=False)"
   ]
  },
  {
   "cell_type": "markdown",
   "metadata": {},
   "source": [
    "Let's procede with the cleanup of our dataset. Let's drop the cells that don't have any location as it won't be useful to us in our analysis."
   ]
  },
  {
   "cell_type": "code",
   "execution_count": 28,
   "metadata": {},
   "outputs": [],
   "source": [
    "data6a = data5d.replace('None',np.nan, regex=True)\n",
    "data6 = data6a[pd.notnull(data5d[\"Location\"])]\n",
    "data6 = data6.reset_index(drop=True)\n",
    "data7 = data6.groupby('Location').count()\n",
    "sort_data = data7.sort_values('Title',ascending=False)"
   ]
  },
  {
   "cell_type": "code",
   "execution_count": 29,
   "metadata": {},
   "outputs": [
    {
     "data": {
      "text/html": [
       "<div>\n",
       "<style scoped>\n",
       "    .dataframe tbody tr th:only-of-type {\n",
       "        vertical-align: middle;\n",
       "    }\n",
       "\n",
       "    .dataframe tbody tr th {\n",
       "        vertical-align: top;\n",
       "    }\n",
       "\n",
       "    .dataframe thead th {\n",
       "        text-align: right;\n",
       "    }\n",
       "</style>\n",
       "<table border=\"1\" class=\"dataframe\">\n",
       "  <thead>\n",
       "    <tr style=\"text-align: right;\">\n",
       "      <th></th>\n",
       "      <th>Company</th>\n",
       "      <th>Title</th>\n",
       "      <th>Salary</th>\n",
       "    </tr>\n",
       "    <tr>\n",
       "      <th>Location</th>\n",
       "      <th></th>\n",
       "      <th></th>\n",
       "      <th></th>\n",
       "    </tr>\n",
       "  </thead>\n",
       "  <tbody>\n",
       "    <tr>\n",
       "      <th>Toronto, ON</th>\n",
       "      <td>46</td>\n",
       "      <td>46</td>\n",
       "      <td>46</td>\n",
       "    </tr>\n",
       "    <tr>\n",
       "      <th>Montréal, QC</th>\n",
       "      <td>26</td>\n",
       "      <td>26</td>\n",
       "      <td>26</td>\n",
       "    </tr>\n",
       "    <tr>\n",
       "      <th>Calgary, AB</th>\n",
       "      <td>11</td>\n",
       "      <td>11</td>\n",
       "      <td>11</td>\n",
       "    </tr>\n",
       "    <tr>\n",
       "      <th>Vancouver, BC</th>\n",
       "      <td>11</td>\n",
       "      <td>11</td>\n",
       "      <td>11</td>\n",
       "    </tr>\n",
       "    <tr>\n",
       "      <th>Canada</th>\n",
       "      <td>6</td>\n",
       "      <td>6</td>\n",
       "      <td>6</td>\n",
       "    </tr>\n",
       "    <tr>\n",
       "      <th>Remote</th>\n",
       "      <td>4</td>\n",
       "      <td>4</td>\n",
       "      <td>4</td>\n",
       "    </tr>\n",
       "    <tr>\n",
       "      <th>London, ON</th>\n",
       "      <td>3</td>\n",
       "      <td>3</td>\n",
       "      <td>3</td>\n",
       "    </tr>\n",
       "    <tr>\n",
       "      <th>Ottawa, ON</th>\n",
       "      <td>3</td>\n",
       "      <td>3</td>\n",
       "      <td>3</td>\n",
       "    </tr>\n",
       "    <tr>\n",
       "      <th>Ottawa ON</th>\n",
       "      <td>3</td>\n",
       "      <td>3</td>\n",
       "      <td>3</td>\n",
       "    </tr>\n",
       "    <tr>\n",
       "      <th>Toronto ON</th>\n",
       "      <td>3</td>\n",
       "      <td>3</td>\n",
       "      <td>3</td>\n",
       "    </tr>\n",
       "  </tbody>\n",
       "</table>\n",
       "</div>"
      ],
      "text/plain": [
       "               Company  Title  Salary\n",
       "Location                             \n",
       "Toronto, ON         46     46      46\n",
       "Montréal, QC        26     26      26\n",
       "Calgary, AB         11     11      11\n",
       "Vancouver, BC       11     11      11\n",
       "Canada               6      6       6\n",
       "Remote               4      4       4\n",
       "London, ON           3      3       3\n",
       "Ottawa, ON           3      3       3\n",
       "Ottawa ON            3      3       3\n",
       "Toronto ON           3      3       3"
      ]
     },
     "execution_count": 29,
     "metadata": {},
     "output_type": "execute_result"
    }
   ],
   "source": [
    "sort_data.head(10)"
   ]
  },
  {
   "cell_type": "markdown",
   "metadata": {},
   "source": [
    "As we can see above, <b>sort_data</b> has a location <b>Canada</b>. We need to drop that row. Since we made our code flexible by asking the user to input his job title, this field might not show up in other job titles. Hence we need to write the code that will check if this field is there, and if it, drop it, else procede without doing anything."
   ]
  },
  {
   "cell_type": "code",
   "execution_count": 30,
   "metadata": {},
   "outputs": [],
   "source": [
    "sort_data_canada_1 = sort_data.reset_index()\n",
    "sort_data_canada_2 = sort_data_canada_1.iloc[:, 0]\n",
    "sort_data_canada_3 = sort_data_canada_2.isin(['Canada'])"
   ]
  },
  {
   "cell_type": "code",
   "execution_count": 31,
   "metadata": {},
   "outputs": [],
   "source": [
    "if sort_data_canada_3.any() == True:\n",
    "    sort_data_1 = sort_data.drop(['Canada'], axis=0)\n",
    "else:\n",
    "    sort_data_1 = sort_data"
   ]
  },
  {
   "cell_type": "code",
   "execution_count": 32,
   "metadata": {},
   "outputs": [
    {
     "data": {
      "text/html": [
       "<div>\n",
       "<style scoped>\n",
       "    .dataframe tbody tr th:only-of-type {\n",
       "        vertical-align: middle;\n",
       "    }\n",
       "\n",
       "    .dataframe tbody tr th {\n",
       "        vertical-align: top;\n",
       "    }\n",
       "\n",
       "    .dataframe thead th {\n",
       "        text-align: right;\n",
       "    }\n",
       "</style>\n",
       "<table border=\"1\" class=\"dataframe\">\n",
       "  <thead>\n",
       "    <tr style=\"text-align: right;\">\n",
       "      <th></th>\n",
       "      <th>Location</th>\n",
       "      <th>Company</th>\n",
       "      <th>Title</th>\n",
       "      <th>Salary</th>\n",
       "    </tr>\n",
       "  </thead>\n",
       "  <tbody>\n",
       "    <tr>\n",
       "      <th>0</th>\n",
       "      <td>Toronto, ON</td>\n",
       "      <td>46</td>\n",
       "      <td>46</td>\n",
       "      <td>46</td>\n",
       "    </tr>\n",
       "    <tr>\n",
       "      <th>1</th>\n",
       "      <td>Montréal, QC</td>\n",
       "      <td>26</td>\n",
       "      <td>26</td>\n",
       "      <td>26</td>\n",
       "    </tr>\n",
       "    <tr>\n",
       "      <th>2</th>\n",
       "      <td>Calgary, AB</td>\n",
       "      <td>11</td>\n",
       "      <td>11</td>\n",
       "      <td>11</td>\n",
       "    </tr>\n",
       "    <tr>\n",
       "      <th>3</th>\n",
       "      <td>Vancouver, BC</td>\n",
       "      <td>11</td>\n",
       "      <td>11</td>\n",
       "      <td>11</td>\n",
       "    </tr>\n",
       "    <tr>\n",
       "      <th>4</th>\n",
       "      <td>Remote</td>\n",
       "      <td>4</td>\n",
       "      <td>4</td>\n",
       "      <td>4</td>\n",
       "    </tr>\n",
       "  </tbody>\n",
       "</table>\n",
       "</div>"
      ],
      "text/plain": [
       "        Location  Company  Title  Salary\n",
       "0    Toronto, ON       46     46      46\n",
       "1   Montréal, QC       26     26      26\n",
       "2    Calgary, AB       11     11      11\n",
       "3  Vancouver, BC       11     11      11\n",
       "4         Remote        4      4       4"
      ]
     },
     "execution_count": 32,
     "metadata": {},
     "output_type": "execute_result"
    }
   ],
   "source": [
    "sort_data_2 = sort_data_1.reset_index()\n",
    "sort_data_2.head()"
   ]
  },
  {
   "cell_type": "markdown",
   "metadata": {},
   "source": [
    "Now let's split the location into <b>City</b> and <b>Provience</b>"
   ]
  },
  {
   "cell_type": "code",
   "execution_count": 33,
   "metadata": {},
   "outputs": [
    {
     "data": {
      "text/html": [
       "<div>\n",
       "<style scoped>\n",
       "    .dataframe tbody tr th:only-of-type {\n",
       "        vertical-align: middle;\n",
       "    }\n",
       "\n",
       "    .dataframe tbody tr th {\n",
       "        vertical-align: top;\n",
       "    }\n",
       "\n",
       "    .dataframe thead th {\n",
       "        text-align: right;\n",
       "    }\n",
       "</style>\n",
       "<table border=\"1\" class=\"dataframe\">\n",
       "  <thead>\n",
       "    <tr style=\"text-align: right;\">\n",
       "      <th></th>\n",
       "      <th>City</th>\n",
       "      <th>Provience</th>\n",
       "    </tr>\n",
       "  </thead>\n",
       "  <tbody>\n",
       "    <tr>\n",
       "      <th>0</th>\n",
       "      <td>Toronto</td>\n",
       "      <td>ON</td>\n",
       "    </tr>\n",
       "    <tr>\n",
       "      <th>1</th>\n",
       "      <td>Montréal</td>\n",
       "      <td>QC</td>\n",
       "    </tr>\n",
       "    <tr>\n",
       "      <th>2</th>\n",
       "      <td>Calgary</td>\n",
       "      <td>AB</td>\n",
       "    </tr>\n",
       "    <tr>\n",
       "      <th>3</th>\n",
       "      <td>Vancouver</td>\n",
       "      <td>BC</td>\n",
       "    </tr>\n",
       "    <tr>\n",
       "      <th>4</th>\n",
       "      <td>Remote</td>\n",
       "      <td>None</td>\n",
       "    </tr>\n",
       "  </tbody>\n",
       "</table>\n",
       "</div>"
      ],
      "text/plain": [
       "        City Provience\n",
       "0    Toronto        ON\n",
       "1   Montréal        QC\n",
       "2    Calgary        AB\n",
       "3  Vancouver        BC\n",
       "4     Remote      None"
      ]
     },
     "execution_count": 33,
     "metadata": {},
     "output_type": "execute_result"
    }
   ],
   "source": [
    "data1 = sort_data_2['Location'].str.split(',', expand=True)\n",
    "data1.columns = ['City', 'Provience']\n",
    "data1.head()"
   ]
  },
  {
   "cell_type": "markdown",
   "metadata": {},
   "source": [
    "Now let's merge this new data with the previous data and drop the column <b>Location</b>"
   ]
  },
  {
   "cell_type": "code",
   "execution_count": 34,
   "metadata": {},
   "outputs": [
    {
     "data": {
      "text/html": [
       "<div>\n",
       "<style scoped>\n",
       "    .dataframe tbody tr th:only-of-type {\n",
       "        vertical-align: middle;\n",
       "    }\n",
       "\n",
       "    .dataframe tbody tr th {\n",
       "        vertical-align: top;\n",
       "    }\n",
       "\n",
       "    .dataframe thead th {\n",
       "        text-align: right;\n",
       "    }\n",
       "</style>\n",
       "<table border=\"1\" class=\"dataframe\">\n",
       "  <thead>\n",
       "    <tr style=\"text-align: right;\">\n",
       "      <th></th>\n",
       "      <th>City</th>\n",
       "      <th>Provience</th>\n",
       "      <th>Company</th>\n",
       "      <th>Title</th>\n",
       "      <th>Salary</th>\n",
       "    </tr>\n",
       "  </thead>\n",
       "  <tbody>\n",
       "    <tr>\n",
       "      <th>0</th>\n",
       "      <td>Toronto</td>\n",
       "      <td>ON</td>\n",
       "      <td>46</td>\n",
       "      <td>46</td>\n",
       "      <td>46</td>\n",
       "    </tr>\n",
       "    <tr>\n",
       "      <th>1</th>\n",
       "      <td>Montréal</td>\n",
       "      <td>QC</td>\n",
       "      <td>26</td>\n",
       "      <td>26</td>\n",
       "      <td>26</td>\n",
       "    </tr>\n",
       "    <tr>\n",
       "      <th>2</th>\n",
       "      <td>Calgary</td>\n",
       "      <td>AB</td>\n",
       "      <td>11</td>\n",
       "      <td>11</td>\n",
       "      <td>11</td>\n",
       "    </tr>\n",
       "    <tr>\n",
       "      <th>3</th>\n",
       "      <td>Vancouver</td>\n",
       "      <td>BC</td>\n",
       "      <td>11</td>\n",
       "      <td>11</td>\n",
       "      <td>11</td>\n",
       "    </tr>\n",
       "    <tr>\n",
       "      <th>4</th>\n",
       "      <td>Remote</td>\n",
       "      <td>None</td>\n",
       "      <td>4</td>\n",
       "      <td>4</td>\n",
       "      <td>4</td>\n",
       "    </tr>\n",
       "  </tbody>\n",
       "</table>\n",
       "</div>"
      ],
      "text/plain": [
       "        City Provience  Company  Title  Salary\n",
       "0    Toronto        ON       46     46      46\n",
       "1   Montréal        QC       26     26      26\n",
       "2    Calgary        AB       11     11      11\n",
       "3  Vancouver        BC       11     11      11\n",
       "4     Remote      None        4      4       4"
      ]
     },
     "execution_count": 34,
     "metadata": {},
     "output_type": "execute_result"
    }
   ],
   "source": [
    "data2 = pd.concat([data1, sort_data_2], axis=1, sort=False)\n",
    "data3 = data2.drop(['Location'], axis=1)\n",
    "data3.head()"
   ]
  },
  {
   "cell_type": "markdown",
   "metadata": {},
   "source": [
    "Let's see which <b>Provience</b> has the maximum number of jobs."
   ]
  },
  {
   "cell_type": "code",
   "execution_count": 35,
   "metadata": {},
   "outputs": [
    {
     "data": {
      "text/html": [
       "<div>\n",
       "<style scoped>\n",
       "    .dataframe tbody tr th:only-of-type {\n",
       "        vertical-align: middle;\n",
       "    }\n",
       "\n",
       "    .dataframe tbody tr th {\n",
       "        vertical-align: top;\n",
       "    }\n",
       "\n",
       "    .dataframe thead th {\n",
       "        text-align: right;\n",
       "    }\n",
       "</style>\n",
       "<table border=\"1\" class=\"dataframe\">\n",
       "  <thead>\n",
       "    <tr style=\"text-align: right;\">\n",
       "      <th></th>\n",
       "      <th>Provience</th>\n",
       "      <th>Total</th>\n",
       "    </tr>\n",
       "  </thead>\n",
       "  <tbody>\n",
       "    <tr>\n",
       "      <th>0</th>\n",
       "      <td>AB</td>\n",
       "      <td>12</td>\n",
       "    </tr>\n",
       "    <tr>\n",
       "      <th>1</th>\n",
       "      <td>BC</td>\n",
       "      <td>16</td>\n",
       "    </tr>\n",
       "    <tr>\n",
       "      <th>2</th>\n",
       "      <td>NB</td>\n",
       "      <td>2</td>\n",
       "    </tr>\n",
       "    <tr>\n",
       "      <th>3</th>\n",
       "      <td>NS</td>\n",
       "      <td>3</td>\n",
       "    </tr>\n",
       "    <tr>\n",
       "      <th>4</th>\n",
       "      <td>ON</td>\n",
       "      <td>68</td>\n",
       "    </tr>\n",
       "    <tr>\n",
       "      <th>5</th>\n",
       "      <td>QC</td>\n",
       "      <td>29</td>\n",
       "    </tr>\n",
       "  </tbody>\n",
       "</table>\n",
       "</div>"
      ],
      "text/plain": [
       "  Provience  Total\n",
       "0        AB     12\n",
       "1        BC     16\n",
       "2        NB      2\n",
       "3        NS      3\n",
       "4        ON     68\n",
       "5        QC     29"
      ]
     },
     "execution_count": 35,
     "metadata": {},
     "output_type": "execute_result"
    }
   ],
   "source": [
    "data4 = data3.groupby('Provience')['Title'].apply(lambda x: ', '.join(x.astype(str))).reset_index()\n",
    "data5 = data4['Title'].str.split(',', expand=True)\n",
    "data5.iloc[:, :] = data5.iloc[:, :].astype(float)\n",
    "data5['Total'] = data5.sum(axis=1).astype(int)\n",
    "data8 = data5.loc[:, 'Total']\n",
    "data9 = data4.loc[:, 'Provience']\n",
    "data10 = pd.concat([data9, data8], axis=1, sort=True)\n",
    "data10"
   ]
  },
  {
   "cell_type": "markdown",
   "metadata": {},
   "source": [
    "Let's sort the dataframe by which <b>City</b> has the maximum number of jobs and arrange it in ascending order."
   ]
  },
  {
   "cell_type": "code",
   "execution_count": 36,
   "metadata": {},
   "outputs": [
    {
     "data": {
      "text/plain": [
       "Location\n",
       "Edmonton AB         2\n",
       "Halifax, NS         2\n",
       "Kanata, ON          2\n",
       "Markham, ON         2\n",
       "Ontario             2\n",
       "London, ON          3\n",
       "Ottawa, ON          3\n",
       "Ottawa ON           3\n",
       "Mississauga, ON     3\n",
       "Toronto ON          3\n",
       "Remote              4\n",
       "Vancouver, BC      11\n",
       "Calgary, AB        11\n",
       "Montréal, QC       26\n",
       "Toronto, ON        46\n",
       "Name: Title, dtype: int64"
      ]
     },
     "execution_count": 36,
     "metadata": {},
     "output_type": "execute_result"
    }
   ],
   "source": [
    "data11 = sort_data_1\n",
    "data11.sort_values(by='Title', ascending=True, inplace=True)\n",
    "data12 = data11.loc[:, 'Title']\n",
    "data13 = data12.tail(15)\n",
    "data13"
   ]
  },
  {
   "cell_type": "markdown",
   "metadata": {},
   "source": [
    "Now let's make sure we don't have any duplicated in our dataframe"
   ]
  },
  {
   "cell_type": "code",
   "execution_count": 37,
   "metadata": {
    "scrolled": true
   },
   "outputs": [
    {
     "data": {
      "text/html": [
       "<div>\n",
       "<style scoped>\n",
       "    .dataframe tbody tr th:only-of-type {\n",
       "        vertical-align: middle;\n",
       "    }\n",
       "\n",
       "    .dataframe tbody tr th {\n",
       "        vertical-align: top;\n",
       "    }\n",
       "\n",
       "    .dataframe thead th {\n",
       "        text-align: right;\n",
       "    }\n",
       "</style>\n",
       "<table border=\"1\" class=\"dataframe\">\n",
       "  <thead>\n",
       "    <tr style=\"text-align: right;\">\n",
       "      <th></th>\n",
       "      <th>Company</th>\n",
       "      <th>Location</th>\n",
       "      <th>Title</th>\n",
       "      <th>Salary</th>\n",
       "    </tr>\n",
       "  </thead>\n",
       "  <tbody>\n",
       "    <tr>\n",
       "      <th>4</th>\n",
       "      <td>Sryas Inc.</td>\n",
       "      <td>Toronto ON</td>\n",
       "      <td>Data Analyst</td>\n",
       "      <td>42500</td>\n",
       "    </tr>\n",
       "    <tr>\n",
       "      <th>8</th>\n",
       "      <td>BC Pension Corporation</td>\n",
       "      <td>Victoria BC</td>\n",
       "      <td>Data Analyst</td>\n",
       "      <td>75922</td>\n",
       "    </tr>\n",
       "    <tr>\n",
       "      <th>6</th>\n",
       "      <td>Juno College of Technology</td>\n",
       "      <td>Toronto ON</td>\n",
       "      <td>Data Science Instructor</td>\n",
       "      <td>77500</td>\n",
       "    </tr>\n",
       "    <tr>\n",
       "      <th>1</th>\n",
       "      <td>Niagara Region</td>\n",
       "      <td>Niagara ON</td>\n",
       "      <td>Data Scientist</td>\n",
       "      <td>84010</td>\n",
       "    </tr>\n",
       "    <tr>\n",
       "      <th>3</th>\n",
       "      <td>Mastech InfoTrellis</td>\n",
       "      <td>Ottawa ON</td>\n",
       "      <td>Data Scientist</td>\n",
       "      <td>88452</td>\n",
       "    </tr>\n",
       "  </tbody>\n",
       "</table>\n",
       "</div>"
      ],
      "text/plain": [
       "                      Company     Location                    Title  Salary\n",
       "4                  Sryas Inc.   Toronto ON             Data Analyst   42500\n",
       "8      BC Pension Corporation  Victoria BC             Data Analyst   75922\n",
       "6  Juno College of Technology   Toronto ON  Data Science Instructor   77500\n",
       "1              Niagara Region   Niagara ON           Data Scientist   84010\n",
       "3         Mastech InfoTrellis    Ottawa ON           Data Scientist   88452"
      ]
     },
     "execution_count": 37,
     "metadata": {},
     "output_type": "execute_result"
    }
   ],
   "source": [
    "data5d.drop_duplicates(keep=False,inplace=True)\n",
    "data5d.head()"
   ]
  },
  {
   "cell_type": "markdown",
   "metadata": {},
   "source": [
    "As we can see, many job titles have the same salary listed. For our last step, data visualization, we don’t need same salaries for different job titles, we just need one. So we group them by salary and then sort them in ascending order."
   ]
  },
  {
   "cell_type": "code",
   "execution_count": 38,
   "metadata": {},
   "outputs": [],
   "source": [
    "data5e = data5d.groupby('Salary')['Company'].apply(' '.join).reset_index()\n",
    "data5e.sort_values(by='Salary', ascending=True, inplace=True)"
   ]
  },
  {
   "cell_type": "code",
   "execution_count": 39,
   "metadata": {},
   "outputs": [
    {
     "data": {
      "text/plain": [
       "0     42500\n",
       "1     75922\n",
       "2     77500\n",
       "3     84010\n",
       "4     85958\n",
       "5     88452\n",
       "6     95815\n",
       "7    124800\n",
       "8    144000\n",
       "9    156000\n",
       "Name: Salary, dtype: int64"
      ]
     },
     "execution_count": 39,
     "metadata": {},
     "output_type": "execute_result"
    }
   ],
   "source": [
    "data_sal_all_1 = data5e.loc[:,'Salary']\n",
    "data_sal_all_2 = data_sal_all_1.tail(15)\n",
    "data_sal_all_2"
   ]
  },
  {
   "cell_type": "markdown",
   "metadata": {},
   "source": [
    "Now, let's plot which city has the maximum number of jobs."
   ]
  },
  {
   "cell_type": "code",
   "execution_count": 40,
   "metadata": {},
   "outputs": [
    {
     "data": {
      "image/png": "[encoded data removed]",
      "text/plain": [
       "<Figure size 864x864 with 1 Axes>"
      ]
     },
     "metadata": {
      "needs_background": "light"
     },
     "output_type": "display_data"
    }
   ],
   "source": [
    "data13.plot(kind='barh', figsize=(12, 12), color='steelblue')\n",
    "plt.xlabel('Number of jobs')\n",
    "plt.title(job_title_1+' jobs in Canada '+str(d2))\n",
    "\n",
    "for index, value in enumerate(data13): \n",
    "    label = format(int(value), ',')\n",
    "    \n",
    "    plt.annotate(label, xy=(value - 0.75, index - 0.10), color='white')\n",
    "plt.savefig('images/'+job_title_us+'_jobs_in_Canada-'+str(d2))\n",
    "plt.show()"
   ]
  },
  {
   "cell_type": "markdown",
   "metadata": {},
   "source": [
    "Let's plot the salary range as well."
   ]
  },
  {
   "cell_type": "code",
   "execution_count": 41,
   "metadata": {},
   "outputs": [
    {
     "data": {
      "image/png": "[encoded data removed]",
      "text/plain": [
       "<Figure size 1080x1080 with 1 Axes>"
      ]
     },
     "metadata": {
      "needs_background": "light"
     },
     "output_type": "display_data"
    }
   ],
   "source": [
    "data_sal_all_2.plot(kind='barh', figsize=(15, 15), color='grey')\n",
    "plt.xlabel('Salary')\n",
    "plt.title(job_title_1+' salary in Canada '+str(d2))\n",
    "\n",
    "for index, value in enumerate(data_sal_all_2): \n",
    "    label = format(int(value), ',') # format int with commas\n",
    "    \n",
    "    plt.annotate(label, xy=(value - 12000, index - 0.10), color='white')\n",
    "plt.savefig('images/'+job_title_us+'_salary_in_Canada-'+str(d2))\n",
    "plt.show()"
   ]
  },
  {
   "cell_type": "code",
   "execution_count": null,
   "metadata": {},
   "outputs": [],
   "source": []
  }
 ],
 "metadata": {
  "kernelspec": {
   "display_name": "Python 3",
   "language": "python",
   "name": "python3"
  },
  "language_info": {
   "codemirror_mode": {
    "name": "ipython",
    "version": 3
   },
   "file_extension": ".py",
   "mimetype": "text/x-python",
   "name": "python",
   "nbconvert_exporter": "python",
   "pygments_lexer": "ipython3",
   "version": "3.7.3"
  }
 },
 "nbformat": 4,
 "nbformat_minor": 2
}
